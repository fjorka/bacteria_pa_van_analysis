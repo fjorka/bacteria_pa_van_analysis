{
 "cells": [
  {
   "cell_type": "code",
   "execution_count": 2,
   "metadata": {},
   "outputs": [],
   "source": [
    "import os\n",
    "import numpy as np\n",
    "import pandas as pd\n",
    "\n",
    "from fastai import *\n",
    "from fastai.vision.all import *\n",
    "from fastai.metrics import error_rate"
   ]
  },
  {
   "cell_type": "markdown",
   "metadata": {},
   "source": [
    "### Build a data frame"
   ]
  },
  {
   "cell_type": "code",
   "execution_count": 7,
   "metadata": {},
   "outputs": [],
   "source": [
    "path_df = './cell_data_annotated.pkl'"
   ]
  },
  {
   "cell_type": "code",
   "execution_count": 13,
   "metadata": {},
   "outputs": [
    {
     "data": {
      "text/html": [
       "<div>\n",
       "<style scoped>\n",
       "    .dataframe tbody tr th:only-of-type {\n",
       "        vertical-align: middle;\n",
       "    }\n",
       "\n",
       "    .dataframe tbody tr th {\n",
       "        vertical-align: top;\n",
       "    }\n",
       "\n",
       "    .dataframe thead th {\n",
       "        text-align: right;\n",
       "    }\n",
       "</style>\n",
       "<table border=\"1\" class=\"dataframe\">\n",
       "  <thead>\n",
       "    <tr style=\"text-align: right;\">\n",
       "      <th></th>\n",
       "      <th>label</th>\n",
       "      <th>area</th>\n",
       "      <th>centroid-0</th>\n",
       "      <th>centroid-1</th>\n",
       "      <th>bbox-0</th>\n",
       "      <th>bbox-1</th>\n",
       "      <th>bbox-2</th>\n",
       "      <th>bbox-3</th>\n",
       "      <th>major_axis_length</th>\n",
       "      <th>minor_axis_length</th>\n",
       "      <th>...</th>\n",
       "      <th>local_centroid-1</th>\n",
       "      <th>foci_number</th>\n",
       "      <th>im_frame</th>\n",
       "      <th>cell_name</th>\n",
       "      <th>volume</th>\n",
       "      <th>ann_phase1</th>\n",
       "      <th>ann_phase2</th>\n",
       "      <th>ann_phase3</th>\n",
       "      <th>ann_mis</th>\n",
       "      <th>ann</th>\n",
       "    </tr>\n",
       "  </thead>\n",
       "  <tbody>\n",
       "    <tr>\n",
       "      <th>0</th>\n",
       "      <td>8</td>\n",
       "      <td>194</td>\n",
       "      <td>18.829897</td>\n",
       "      <td>790.170103</td>\n",
       "      <td>11</td>\n",
       "      <td>782</td>\n",
       "      <td>28</td>\n",
       "      <td>799</td>\n",
       "      <td>16.770126</td>\n",
       "      <td>14.757904</td>\n",
       "      <td>...</td>\n",
       "      <td>8.170103</td>\n",
       "      <td>1.0</td>\n",
       "      <td>data_set1_PA_10min_00</td>\n",
       "      <td>data_set1_PA_10min_00_0008</td>\n",
       "      <td>1912.424479</td>\n",
       "      <td>False</td>\n",
       "      <td>False</td>\n",
       "      <td>False</td>\n",
       "      <td>False</td>\n",
       "      <td>NaN</td>\n",
       "    </tr>\n",
       "    <tr>\n",
       "      <th>1</th>\n",
       "      <td>9</td>\n",
       "      <td>345</td>\n",
       "      <td>26.046377</td>\n",
       "      <td>728.202899</td>\n",
       "      <td>16</td>\n",
       "      <td>717</td>\n",
       "      <td>36</td>\n",
       "      <td>740</td>\n",
       "      <td>22.599048</td>\n",
       "      <td>19.475703</td>\n",
       "      <td>...</td>\n",
       "      <td>11.202899</td>\n",
       "      <td>0.0</td>\n",
       "      <td>data_set1_PA_10min_00</td>\n",
       "      <td>data_set1_PA_10min_00_0009</td>\n",
       "      <td>4488.229194</td>\n",
       "      <td>True</td>\n",
       "      <td>False</td>\n",
       "      <td>False</td>\n",
       "      <td>False</td>\n",
       "      <td>phase1</td>\n",
       "    </tr>\n",
       "    <tr>\n",
       "      <th>2</th>\n",
       "      <td>10</td>\n",
       "      <td>257</td>\n",
       "      <td>27.980545</td>\n",
       "      <td>824.167315</td>\n",
       "      <td>19</td>\n",
       "      <td>815</td>\n",
       "      <td>38</td>\n",
       "      <td>835</td>\n",
       "      <td>19.896883</td>\n",
       "      <td>16.486363</td>\n",
       "      <td>...</td>\n",
       "      <td>9.167315</td>\n",
       "      <td>0.0</td>\n",
       "      <td>data_set1_PA_10min_00</td>\n",
       "      <td>data_set1_PA_10min_00_0010</td>\n",
       "      <td>2831.609620</td>\n",
       "      <td>False</td>\n",
       "      <td>False</td>\n",
       "      <td>False</td>\n",
       "      <td>False</td>\n",
       "      <td>NaN</td>\n",
       "    </tr>\n",
       "    <tr>\n",
       "      <th>3</th>\n",
       "      <td>11</td>\n",
       "      <td>431</td>\n",
       "      <td>29.292343</td>\n",
       "      <td>112.341067</td>\n",
       "      <td>18</td>\n",
       "      <td>101</td>\n",
       "      <td>42</td>\n",
       "      <td>124</td>\n",
       "      <td>24.111707</td>\n",
       "      <td>22.787024</td>\n",
       "      <td>...</td>\n",
       "      <td>11.341067</td>\n",
       "      <td>0.0</td>\n",
       "      <td>data_set1_PA_10min_00</td>\n",
       "      <td>data_set1_PA_10min_00_0011</td>\n",
       "      <td>6555.438981</td>\n",
       "      <td>False</td>\n",
       "      <td>False</td>\n",
       "      <td>False</td>\n",
       "      <td>False</td>\n",
       "      <td>NaN</td>\n",
       "    </tr>\n",
       "    <tr>\n",
       "      <th>4</th>\n",
       "      <td>12</td>\n",
       "      <td>292</td>\n",
       "      <td>29.140411</td>\n",
       "      <td>404.044521</td>\n",
       "      <td>20</td>\n",
       "      <td>394</td>\n",
       "      <td>39</td>\n",
       "      <td>415</td>\n",
       "      <td>21.145596</td>\n",
       "      <td>17.600479</td>\n",
       "      <td>...</td>\n",
       "      <td>10.044521</td>\n",
       "      <td>0.0</td>\n",
       "      <td>data_set1_PA_10min_00</td>\n",
       "      <td>data_set1_PA_10min_00_0012</td>\n",
       "      <td>3429.790126</td>\n",
       "      <td>False</td>\n",
       "      <td>False</td>\n",
       "      <td>False</td>\n",
       "      <td>False</td>\n",
       "      <td>NaN</td>\n",
       "    </tr>\n",
       "  </tbody>\n",
       "</table>\n",
       "<p>5 rows × 21 columns</p>\n",
       "</div>"
      ],
      "text/plain": [
       "   label  area  centroid-0  centroid-1  bbox-0  bbox-1  bbox-2  bbox-3  \\\n",
       "0      8   194   18.829897  790.170103      11     782      28     799   \n",
       "1      9   345   26.046377  728.202899      16     717      36     740   \n",
       "2     10   257   27.980545  824.167315      19     815      38     835   \n",
       "3     11   431   29.292343  112.341067      18     101      42     124   \n",
       "4     12   292   29.140411  404.044521      20     394      39     415   \n",
       "\n",
       "   major_axis_length  minor_axis_length  ...  local_centroid-1  foci_number  \\\n",
       "0          16.770126          14.757904  ...          8.170103          1.0   \n",
       "1          22.599048          19.475703  ...         11.202899          0.0   \n",
       "2          19.896883          16.486363  ...          9.167315          0.0   \n",
       "3          24.111707          22.787024  ...         11.341067          0.0   \n",
       "4          21.145596          17.600479  ...         10.044521          0.0   \n",
       "\n",
       "                im_frame                   cell_name       volume  ann_phase1  \\\n",
       "0  data_set1_PA_10min_00  data_set1_PA_10min_00_0008  1912.424479       False   \n",
       "1  data_set1_PA_10min_00  data_set1_PA_10min_00_0009  4488.229194        True   \n",
       "2  data_set1_PA_10min_00  data_set1_PA_10min_00_0010  2831.609620       False   \n",
       "3  data_set1_PA_10min_00  data_set1_PA_10min_00_0011  6555.438981       False   \n",
       "4  data_set1_PA_10min_00  data_set1_PA_10min_00_0012  3429.790126       False   \n",
       "\n",
       "   ann_phase2  ann_phase3  ann_mis     ann  \n",
       "0       False       False    False     NaN  \n",
       "1       False       False    False  phase1  \n",
       "2       False       False    False     NaN  \n",
       "3       False       False    False     NaN  \n",
       "4       False       False    False     NaN  \n",
       "\n",
       "[5 rows x 21 columns]"
      ]
     },
     "execution_count": 13,
     "metadata": {},
     "output_type": "execute_result"
    }
   ],
   "source": [
    "# read in the annotated data frame\n",
    "df = pd.read_pickle(path_df)\n",
    "df.head()"
   ]
  },
  {
   "cell_type": "code",
   "execution_count": 18,
   "metadata": {},
   "outputs": [
    {
     "data": {
      "text/plain": [
       "530"
      ]
     },
     "execution_count": 18,
     "metadata": {},
     "output_type": "execute_result"
    }
   ],
   "source": [
    "# create a training set\n",
    "data_sel = df.loc[df.ann==df.ann,:]\n",
    "# cound annotated objects\n",
    "len(data_sel)"
   ]
  },
  {
   "cell_type": "code",
   "execution_count": 16,
   "metadata": {},
   "outputs": [],
   "source": [
    "def get_x(r): return os.path.join('./singles_01',f'{r[\"cell_name\"]}.tiff')\n",
    "def get_y(r): return r['ann']"
   ]
  },
  {
   "cell_type": "code",
   "execution_count": 19,
   "metadata": {},
   "outputs": [],
   "source": [
    "dblock = DataBlock(blocks=(ImageBlock,CategoryBlock),\n",
    "                   splitter = RandomSplitter(valid_pct=0.2),\n",
    "                   get_x=get_x,get_y=get_y,\n",
    "                   batch_tfms = [*aug_transforms(flip_vert=True,max_rotate=60.0,max_zoom=1)])\n",
    "dsets = dblock.datasets(data_sel)\n",
    "dls = dblock.dataloaders(data_sel)"
   ]
  },
  {
   "cell_type": "code",
   "execution_count": 20,
   "metadata": {},
   "outputs": [
    {
     "data": {
      "image/png": "[encoded data removed]",
      "text/plain": [
       "<Figure size 864x864 with 16 Axes>"
      ]
     },
     "metadata": {
      "needs_background": "light"
     },
     "output_type": "display_data"
    }
   ],
   "source": [
    "# visualize a batch\n",
    "dls.show_batch(max_n=16)"
   ]
  },
  {
   "cell_type": "code",
   "execution_count": 48,
   "metadata": {},
   "outputs": [],
   "source": [
    "# create a learner\n",
    "learn = cnn_learner(dls, resnet50, metrics=error_rate)"
   ]
  },
  {
   "cell_type": "code",
   "execution_count": 49,
   "metadata": {},
   "outputs": [
    {
     "data": {
      "text/html": [],
      "text/plain": [
       "<IPython.core.display.HTML object>"
      ]
     },
     "metadata": {},
     "output_type": "display_data"
    },
    {
     "data": {
      "image/png": "[encoded data removed]",
      "text/plain": [
       "<Figure size 288x288 with 1 Axes>"
      ]
     },
     "metadata": {
      "needs_background": "light"
     },
     "output_type": "display_data"
    }
   ],
   "source": [
    "# check initial status of the learner\n",
    "interp = ClassificationInterpretation.from_learner(learn)\n",
    "interp.plot_confusion_matrix(figsize=(4,4))"
   ]
  },
  {
   "cell_type": "code",
   "execution_count": 50,
   "metadata": {},
   "outputs": [],
   "source": [
    "# freeze early layers\n",
    "learn.freeze()"
   ]
  },
  {
   "cell_type": "code",
   "execution_count": 51,
   "metadata": {},
   "outputs": [
    {
     "data": {
      "text/html": [],
      "text/plain": [
       "<IPython.core.display.HTML object>"
      ]
     },
     "metadata": {},
     "output_type": "display_data"
    },
    {
     "data": {
      "text/plain": [
       "SuggestedLRs(valley=0.0004786300996784121)"
      ]
     },
     "execution_count": 51,
     "metadata": {},
     "output_type": "execute_result"
    },
    {
     "data": {
      "image/png": "[encoded data removed]",
      "text/plain": [
       "<Figure size 432x288 with 1 Axes>"
      ]
     },
     "metadata": {
      "needs_background": "light"
     },
     "output_type": "display_data"
    }
   ],
   "source": [
    "# find starting learning rate\n",
    "learn.lr_find()"
   ]
  },
  {
   "cell_type": "code",
   "execution_count": 52,
   "metadata": {},
   "outputs": [
    {
     "data": {
      "text/html": [
       "<table border=\"1\" class=\"dataframe\">\n",
       "  <thead>\n",
       "    <tr style=\"text-align: left;\">\n",
       "      <th>epoch</th>\n",
       "      <th>train_loss</th>\n",
       "      <th>valid_loss</th>\n",
       "      <th>error_rate</th>\n",
       "      <th>time</th>\n",
       "    </tr>\n",
       "  </thead>\n",
       "  <tbody>\n",
       "    <tr>\n",
       "      <td>0</td>\n",
       "      <td>2.140300</td>\n",
       "      <td>1.499684</td>\n",
       "      <td>0.641509</td>\n",
       "      <td>00:01</td>\n",
       "    </tr>\n",
       "    <tr>\n",
       "      <td>1</td>\n",
       "      <td>1.782004</td>\n",
       "      <td>1.273530</td>\n",
       "      <td>0.528302</td>\n",
       "      <td>00:01</td>\n",
       "    </tr>\n",
       "    <tr>\n",
       "      <td>2</td>\n",
       "      <td>1.469321</td>\n",
       "      <td>0.823095</td>\n",
       "      <td>0.301887</td>\n",
       "      <td>00:01</td>\n",
       "    </tr>\n",
       "    <tr>\n",
       "      <td>3</td>\n",
       "      <td>1.239097</td>\n",
       "      <td>0.498948</td>\n",
       "      <td>0.169811</td>\n",
       "      <td>00:01</td>\n",
       "    </tr>\n",
       "    <tr>\n",
       "      <td>4</td>\n",
       "      <td>1.056027</td>\n",
       "      <td>0.321963</td>\n",
       "      <td>0.094340</td>\n",
       "      <td>00:01</td>\n",
       "    </tr>\n",
       "    <tr>\n",
       "      <td>5</td>\n",
       "      <td>0.930346</td>\n",
       "      <td>0.327553</td>\n",
       "      <td>0.094340</td>\n",
       "      <td>00:01</td>\n",
       "    </tr>\n",
       "    <tr>\n",
       "      <td>6</td>\n",
       "      <td>0.828894</td>\n",
       "      <td>0.464168</td>\n",
       "      <td>0.169811</td>\n",
       "      <td>00:01</td>\n",
       "    </tr>\n",
       "    <tr>\n",
       "      <td>7</td>\n",
       "      <td>0.743331</td>\n",
       "      <td>0.723048</td>\n",
       "      <td>0.216981</td>\n",
       "      <td>00:01</td>\n",
       "    </tr>\n",
       "    <tr>\n",
       "      <td>8</td>\n",
       "      <td>0.672583</td>\n",
       "      <td>0.814395</td>\n",
       "      <td>0.216981</td>\n",
       "      <td>00:01</td>\n",
       "    </tr>\n",
       "    <tr>\n",
       "      <td>9</td>\n",
       "      <td>0.628662</td>\n",
       "      <td>0.737675</td>\n",
       "      <td>0.235849</td>\n",
       "      <td>00:01</td>\n",
       "    </tr>\n",
       "    <tr>\n",
       "      <td>10</td>\n",
       "      <td>0.581210</td>\n",
       "      <td>0.427450</td>\n",
       "      <td>0.141509</td>\n",
       "      <td>00:01</td>\n",
       "    </tr>\n",
       "    <tr>\n",
       "      <td>11</td>\n",
       "      <td>0.536999</td>\n",
       "      <td>0.358514</td>\n",
       "      <td>0.141509</td>\n",
       "      <td>00:01</td>\n",
       "    </tr>\n",
       "    <tr>\n",
       "      <td>12</td>\n",
       "      <td>0.510200</td>\n",
       "      <td>0.362624</td>\n",
       "      <td>0.141509</td>\n",
       "      <td>00:01</td>\n",
       "    </tr>\n",
       "    <tr>\n",
       "      <td>13</td>\n",
       "      <td>0.479951</td>\n",
       "      <td>0.424043</td>\n",
       "      <td>0.122642</td>\n",
       "      <td>00:01</td>\n",
       "    </tr>\n",
       "    <tr>\n",
       "      <td>14</td>\n",
       "      <td>0.439820</td>\n",
       "      <td>0.400705</td>\n",
       "      <td>0.113208</td>\n",
       "      <td>00:01</td>\n",
       "    </tr>\n",
       "    <tr>\n",
       "      <td>15</td>\n",
       "      <td>0.416427</td>\n",
       "      <td>0.321950</td>\n",
       "      <td>0.094340</td>\n",
       "      <td>00:01</td>\n",
       "    </tr>\n",
       "    <tr>\n",
       "      <td>16</td>\n",
       "      <td>0.400458</td>\n",
       "      <td>0.333748</td>\n",
       "      <td>0.094340</td>\n",
       "      <td>00:01</td>\n",
       "    </tr>\n",
       "    <tr>\n",
       "      <td>17</td>\n",
       "      <td>0.384256</td>\n",
       "      <td>0.328639</td>\n",
       "      <td>0.084906</td>\n",
       "      <td>00:01</td>\n",
       "    </tr>\n",
       "    <tr>\n",
       "      <td>18</td>\n",
       "      <td>0.362657</td>\n",
       "      <td>0.320768</td>\n",
       "      <td>0.084906</td>\n",
       "      <td>00:01</td>\n",
       "    </tr>\n",
       "    <tr>\n",
       "      <td>19</td>\n",
       "      <td>0.347164</td>\n",
       "      <td>0.335209</td>\n",
       "      <td>0.084906</td>\n",
       "      <td>00:01</td>\n",
       "    </tr>\n",
       "    <tr>\n",
       "      <td>20</td>\n",
       "      <td>0.332848</td>\n",
       "      <td>0.332783</td>\n",
       "      <td>0.075472</td>\n",
       "      <td>00:01</td>\n",
       "    </tr>\n",
       "    <tr>\n",
       "      <td>21</td>\n",
       "      <td>0.320346</td>\n",
       "      <td>0.320161</td>\n",
       "      <td>0.094340</td>\n",
       "      <td>00:01</td>\n",
       "    </tr>\n",
       "    <tr>\n",
       "      <td>22</td>\n",
       "      <td>0.321575</td>\n",
       "      <td>0.290548</td>\n",
       "      <td>0.084906</td>\n",
       "      <td>00:01</td>\n",
       "    </tr>\n",
       "    <tr>\n",
       "      <td>23</td>\n",
       "      <td>0.315186</td>\n",
       "      <td>0.296682</td>\n",
       "      <td>0.084906</td>\n",
       "      <td>00:01</td>\n",
       "    </tr>\n",
       "    <tr>\n",
       "      <td>24</td>\n",
       "      <td>0.303132</td>\n",
       "      <td>0.288499</td>\n",
       "      <td>0.075472</td>\n",
       "      <td>00:01</td>\n",
       "    </tr>\n",
       "  </tbody>\n",
       "</table>"
      ],
      "text/plain": [
       "<IPython.core.display.HTML object>"
      ]
     },
     "metadata": {},
     "output_type": "display_data"
    },
    {
     "data": {
      "image/png": "[encoded data removed]",
      "text/plain": [
       "<Figure size 432x288 with 1 Axes>"
      ]
     },
     "metadata": {},
     "output_type": "display_data"
    }
   ],
   "source": [
    "# training\n",
    "learn.fit_one_cycle(25,0.0005,cbs=[ShowGraphCallback()])"
   ]
  },
  {
   "cell_type": "code",
   "execution_count": 53,
   "metadata": {},
   "outputs": [],
   "source": [
    "# allow changes for early layers\n",
    "learn.unfreeze()"
   ]
  },
  {
   "cell_type": "code",
   "execution_count": 54,
   "metadata": {},
   "outputs": [
    {
     "data": {
      "text/html": [],
      "text/plain": [
       "<IPython.core.display.HTML object>"
      ]
     },
     "metadata": {},
     "output_type": "display_data"
    },
    {
     "data": {
      "text/plain": [
       "SuggestedLRs(valley=0.00010964782268274575)"
      ]
     },
     "execution_count": 54,
     "metadata": {},
     "output_type": "execute_result"
    },
    {
     "data": {
      "image/png": "[encoded data removed]",
      "text/plain": [
       "<Figure size 432x288 with 1 Axes>"
      ]
     },
     "metadata": {
      "needs_background": "light"
     },
     "output_type": "display_data"
    }
   ],
   "source": [
    "learn.lr_find()"
   ]
  },
  {
   "cell_type": "code",
   "execution_count": 55,
   "metadata": {},
   "outputs": [
    {
     "data": {
      "text/html": [
       "<table border=\"1\" class=\"dataframe\">\n",
       "  <thead>\n",
       "    <tr style=\"text-align: left;\">\n",
       "      <th>epoch</th>\n",
       "      <th>train_loss</th>\n",
       "      <th>valid_loss</th>\n",
       "      <th>error_rate</th>\n",
       "      <th>time</th>\n",
       "    </tr>\n",
       "  </thead>\n",
       "  <tbody>\n",
       "    <tr>\n",
       "      <td>0</td>\n",
       "      <td>0.167577</td>\n",
       "      <td>0.225459</td>\n",
       "      <td>0.094340</td>\n",
       "      <td>00:01</td>\n",
       "    </tr>\n",
       "    <tr>\n",
       "      <td>1</td>\n",
       "      <td>0.182845</td>\n",
       "      <td>0.265238</td>\n",
       "      <td>0.075472</td>\n",
       "      <td>00:01</td>\n",
       "    </tr>\n",
       "    <tr>\n",
       "      <td>2</td>\n",
       "      <td>0.220655</td>\n",
       "      <td>0.217603</td>\n",
       "      <td>0.056604</td>\n",
       "      <td>00:01</td>\n",
       "    </tr>\n",
       "    <tr>\n",
       "      <td>3</td>\n",
       "      <td>0.227995</td>\n",
       "      <td>0.280523</td>\n",
       "      <td>0.084906</td>\n",
       "      <td>00:01</td>\n",
       "    </tr>\n",
       "    <tr>\n",
       "      <td>4</td>\n",
       "      <td>0.259621</td>\n",
       "      <td>1.293824</td>\n",
       "      <td>0.160377</td>\n",
       "      <td>00:01</td>\n",
       "    </tr>\n",
       "    <tr>\n",
       "      <td>5</td>\n",
       "      <td>0.255959</td>\n",
       "      <td>0.598932</td>\n",
       "      <td>0.113208</td>\n",
       "      <td>00:01</td>\n",
       "    </tr>\n",
       "    <tr>\n",
       "      <td>6</td>\n",
       "      <td>0.257152</td>\n",
       "      <td>0.754203</td>\n",
       "      <td>0.132075</td>\n",
       "      <td>00:01</td>\n",
       "    </tr>\n",
       "    <tr>\n",
       "      <td>7</td>\n",
       "      <td>0.267184</td>\n",
       "      <td>0.388239</td>\n",
       "      <td>0.066038</td>\n",
       "      <td>00:01</td>\n",
       "    </tr>\n",
       "    <tr>\n",
       "      <td>8</td>\n",
       "      <td>0.244766</td>\n",
       "      <td>0.280095</td>\n",
       "      <td>0.084906</td>\n",
       "      <td>00:01</td>\n",
       "    </tr>\n",
       "    <tr>\n",
       "      <td>9</td>\n",
       "      <td>0.228991</td>\n",
       "      <td>0.197880</td>\n",
       "      <td>0.028302</td>\n",
       "      <td>00:01</td>\n",
       "    </tr>\n",
       "    <tr>\n",
       "      <td>10</td>\n",
       "      <td>0.217707</td>\n",
       "      <td>0.154445</td>\n",
       "      <td>0.037736</td>\n",
       "      <td>00:01</td>\n",
       "    </tr>\n",
       "    <tr>\n",
       "      <td>11</td>\n",
       "      <td>0.208682</td>\n",
       "      <td>0.160068</td>\n",
       "      <td>0.037736</td>\n",
       "      <td>00:01</td>\n",
       "    </tr>\n",
       "    <tr>\n",
       "      <td>12</td>\n",
       "      <td>0.189825</td>\n",
       "      <td>0.137691</td>\n",
       "      <td>0.037736</td>\n",
       "      <td>00:01</td>\n",
       "    </tr>\n",
       "    <tr>\n",
       "      <td>13</td>\n",
       "      <td>0.170258</td>\n",
       "      <td>0.114452</td>\n",
       "      <td>0.037736</td>\n",
       "      <td>00:01</td>\n",
       "    </tr>\n",
       "    <tr>\n",
       "      <td>14</td>\n",
       "      <td>0.159953</td>\n",
       "      <td>0.120030</td>\n",
       "      <td>0.037736</td>\n",
       "      <td>00:01</td>\n",
       "    </tr>\n",
       "    <tr>\n",
       "      <td>15</td>\n",
       "      <td>0.147512</td>\n",
       "      <td>0.128496</td>\n",
       "      <td>0.037736</td>\n",
       "      <td>00:01</td>\n",
       "    </tr>\n",
       "    <tr>\n",
       "      <td>16</td>\n",
       "      <td>0.139069</td>\n",
       "      <td>0.129000</td>\n",
       "      <td>0.018868</td>\n",
       "      <td>00:01</td>\n",
       "    </tr>\n",
       "    <tr>\n",
       "      <td>17</td>\n",
       "      <td>0.132697</td>\n",
       "      <td>0.131624</td>\n",
       "      <td>0.018868</td>\n",
       "      <td>00:01</td>\n",
       "    </tr>\n",
       "    <tr>\n",
       "      <td>18</td>\n",
       "      <td>0.125542</td>\n",
       "      <td>0.126923</td>\n",
       "      <td>0.018868</td>\n",
       "      <td>00:01</td>\n",
       "    </tr>\n",
       "    <tr>\n",
       "      <td>19</td>\n",
       "      <td>0.116615</td>\n",
       "      <td>0.134693</td>\n",
       "      <td>0.018868</td>\n",
       "      <td>00:01</td>\n",
       "    </tr>\n",
       "  </tbody>\n",
       "</table>"
      ],
      "text/plain": [
       "<IPython.core.display.HTML object>"
      ]
     },
     "metadata": {},
     "output_type": "display_data"
    },
    {
     "data": {
      "image/png": "[encoded data removed]",
      "text/plain": [
       "<Figure size 432x288 with 1 Axes>"
      ]
     },
     "metadata": {},
     "output_type": "display_data"
    }
   ],
   "source": [
    "learn.fit_one_cycle(20,3*1e-4,cbs=[ShowGraphCallback()])"
   ]
  },
  {
   "cell_type": "code",
   "execution_count": 56,
   "metadata": {},
   "outputs": [
    {
     "data": {
      "text/html": [],
      "text/plain": [
       "<IPython.core.display.HTML object>"
      ]
     },
     "metadata": {},
     "output_type": "display_data"
    },
    {
     "data": {
      "image/png": "[encoded data removed]",
      "text/plain": [
       "<Figure size 288x288 with 1 Axes>"
      ]
     },
     "metadata": {
      "needs_background": "light"
     },
     "output_type": "display_data"
    }
   ],
   "source": [
    "interp = ClassificationInterpretation.from_learner(learn)\n",
    "interp.plot_confusion_matrix(figsize=(4,4))"
   ]
  },
  {
   "cell_type": "code",
   "execution_count": 57,
   "metadata": {},
   "outputs": [],
   "source": [
    "def plot_top_losses_fix(interp, k, largest=True, **kwargs):\n",
    "        losses,idx = interp.top_losses(k, largest)\n",
    "        if not isinstance(interp.inputs, tuple): interp.inputs = (interp.inputs,)\n",
    "        if isinstance(interp.inputs[0], Tensor): inps = tuple(o[idx] for o in interp.inputs)\n",
    "        else: inps = interp.dl.create_batch(interp.dl.before_batch([tuple(o[i] for o in interp.inputs) for i in idx]))\n",
    "        b = inps + tuple(o[idx] for o in (interp.targs if is_listy(interp.targs) else (interp.targs,)))\n",
    "        x,y,its = interp.dl._pre_show_batch(b, max_n=k)\n",
    "        b_out = inps + tuple(o[idx] for o in (interp.decoded if is_listy(interp.decoded) else (interp.decoded,)))\n",
    "        x1,y1,outs = interp.dl._pre_show_batch(b_out, max_n=k)\n",
    "        if its is not None:\n",
    "            #plot_top_losses(x, y, its, outs.itemgot(slice(len(inps), None)), L(self.preds).itemgot(idx), losses,  **kwargs)\n",
    "            plot_top_losses(x, y, its, outs.itemgot(slice(len(inps), None)), interp.preds[idx], losses,  **kwargs)\n",
    "        #TODO: figure out if this is needed\n",
    "        #its None means that a batch knows how to show itself as a whole, so we pass x, x1\n",
    "        #else: show_results(x, x1, its, ctxs=ctxs, max_n=max_n, **kwargs)"
   ]
  },
  {
   "cell_type": "code",
   "execution_count": 58,
   "metadata": {},
   "outputs": [
    {
     "data": {
      "image/png": "[encoded data removed]",
      "text/plain": [
       "<Figure size 432x432 with 4 Axes>"
      ]
     },
     "metadata": {
      "needs_background": "light"
     },
     "output_type": "display_data"
    }
   ],
   "source": [
    "plot_top_losses_fix(interp,4,nrows=2)"
   ]
  },
  {
   "cell_type": "code",
   "execution_count": 59,
   "metadata": {},
   "outputs": [],
   "source": [
    "learn.save('staphNet_unfreeze_220420')\n",
    "learn.export('staphNet_unfreeze_220420.pkl')"
   ]
  },
  {
   "cell_type": "markdown",
   "metadata": {},
   "source": [
    "## Predict for all cells"
   ]
  },
  {
   "cell_type": "code",
   "execution_count": 60,
   "metadata": {},
   "outputs": [
    {
     "data": {
      "text/plain": [
       "['error', 'phase1', 'phase2', 'phase3']"
      ]
     },
     "execution_count": 60,
     "metadata": {},
     "output_type": "execute_result"
    }
   ],
   "source": [
    "# check names of categories\n",
    "v=dsets.vocab\n",
    "v"
   ]
  },
  {
   "cell_type": "code",
   "execution_count": 61,
   "metadata": {},
   "outputs": [],
   "source": [
    "test_files = [get_x(x) for i,x in df.iterrows()]\n",
    "test_dl = learn.dls.test_dl(test_files)"
   ]
  },
  {
   "cell_type": "code",
   "execution_count": 62,
   "metadata": {},
   "outputs": [
    {
     "data": {
      "text/html": [],
      "text/plain": [
       "<IPython.core.display.HTML object>"
      ]
     },
     "metadata": {},
     "output_type": "display_data"
    }
   ],
   "source": [
    "preds, _, decoded = learn.get_preds(dl=test_dl, with_decoded=True)"
   ]
  },
  {
   "cell_type": "code",
   "execution_count": 63,
   "metadata": {},
   "outputs": [
    {
     "data": {
      "text/plain": [
       "32296"
      ]
     },
     "execution_count": 63,
     "metadata": {},
     "output_type": "execute_result"
    }
   ],
   "source": [
    "len(decoded)"
   ]
  },
  {
   "cell_type": "code",
   "execution_count": 64,
   "metadata": {},
   "outputs": [],
   "source": [
    "df['nn_phase'] = [v[x] for x in decoded]"
   ]
  },
  {
   "cell_type": "code",
   "execution_count": 65,
   "metadata": {},
   "outputs": [
    {
     "data": {
      "text/html": [
       "<div>\n",
       "<style scoped>\n",
       "    .dataframe tbody tr th:only-of-type {\n",
       "        vertical-align: middle;\n",
       "    }\n",
       "\n",
       "    .dataframe tbody tr th {\n",
       "        vertical-align: top;\n",
       "    }\n",
       "\n",
       "    .dataframe thead th {\n",
       "        text-align: right;\n",
       "    }\n",
       "</style>\n",
       "<table border=\"1\" class=\"dataframe\">\n",
       "  <thead>\n",
       "    <tr style=\"text-align: right;\">\n",
       "      <th></th>\n",
       "      <th>label</th>\n",
       "      <th>area</th>\n",
       "      <th>centroid-0</th>\n",
       "      <th>centroid-1</th>\n",
       "      <th>bbox-0</th>\n",
       "      <th>bbox-1</th>\n",
       "      <th>bbox-2</th>\n",
       "      <th>bbox-3</th>\n",
       "      <th>major_axis_length</th>\n",
       "      <th>minor_axis_length</th>\n",
       "      <th>...</th>\n",
       "      <th>local_centroid-1</th>\n",
       "      <th>foci_number</th>\n",
       "      <th>im_frame</th>\n",
       "      <th>cell_name</th>\n",
       "      <th>volume</th>\n",
       "      <th>ann_phase1</th>\n",
       "      <th>ann_phase2</th>\n",
       "      <th>ann_phase3</th>\n",
       "      <th>ann_mis</th>\n",
       "      <th>ann</th>\n",
       "    </tr>\n",
       "    <tr>\n",
       "      <th>nn_phase</th>\n",
       "      <th></th>\n",
       "      <th></th>\n",
       "      <th></th>\n",
       "      <th></th>\n",
       "      <th></th>\n",
       "      <th></th>\n",
       "      <th></th>\n",
       "      <th></th>\n",
       "      <th></th>\n",
       "      <th></th>\n",
       "      <th></th>\n",
       "      <th></th>\n",
       "      <th></th>\n",
       "      <th></th>\n",
       "      <th></th>\n",
       "      <th></th>\n",
       "      <th></th>\n",
       "      <th></th>\n",
       "      <th></th>\n",
       "      <th></th>\n",
       "      <th></th>\n",
       "    </tr>\n",
       "  </thead>\n",
       "  <tbody>\n",
       "    <tr>\n",
       "      <th>error</th>\n",
       "      <td>2115</td>\n",
       "      <td>2115</td>\n",
       "      <td>2115</td>\n",
       "      <td>2115</td>\n",
       "      <td>2115</td>\n",
       "      <td>2115</td>\n",
       "      <td>2115</td>\n",
       "      <td>2115</td>\n",
       "      <td>2115</td>\n",
       "      <td>2115</td>\n",
       "      <td>...</td>\n",
       "      <td>2115</td>\n",
       "      <td>2115</td>\n",
       "      <td>2115</td>\n",
       "      <td>2115</td>\n",
       "      <td>2115</td>\n",
       "      <td>2115</td>\n",
       "      <td>2115</td>\n",
       "      <td>2115</td>\n",
       "      <td>2115</td>\n",
       "      <td>78</td>\n",
       "    </tr>\n",
       "    <tr>\n",
       "      <th>phase1</th>\n",
       "      <td>18365</td>\n",
       "      <td>18365</td>\n",
       "      <td>18365</td>\n",
       "      <td>18365</td>\n",
       "      <td>18365</td>\n",
       "      <td>18365</td>\n",
       "      <td>18365</td>\n",
       "      <td>18365</td>\n",
       "      <td>18365</td>\n",
       "      <td>18365</td>\n",
       "      <td>...</td>\n",
       "      <td>18365</td>\n",
       "      <td>18365</td>\n",
       "      <td>18365</td>\n",
       "      <td>18365</td>\n",
       "      <td>18365</td>\n",
       "      <td>18365</td>\n",
       "      <td>18365</td>\n",
       "      <td>18365</td>\n",
       "      <td>18365</td>\n",
       "      <td>151</td>\n",
       "    </tr>\n",
       "    <tr>\n",
       "      <th>phase2</th>\n",
       "      <td>7666</td>\n",
       "      <td>7666</td>\n",
       "      <td>7666</td>\n",
       "      <td>7666</td>\n",
       "      <td>7666</td>\n",
       "      <td>7666</td>\n",
       "      <td>7666</td>\n",
       "      <td>7666</td>\n",
       "      <td>7666</td>\n",
       "      <td>7666</td>\n",
       "      <td>...</td>\n",
       "      <td>7666</td>\n",
       "      <td>7666</td>\n",
       "      <td>7666</td>\n",
       "      <td>7666</td>\n",
       "      <td>7666</td>\n",
       "      <td>7666</td>\n",
       "      <td>7666</td>\n",
       "      <td>7666</td>\n",
       "      <td>7666</td>\n",
       "      <td>149</td>\n",
       "    </tr>\n",
       "    <tr>\n",
       "      <th>phase3</th>\n",
       "      <td>4150</td>\n",
       "      <td>4150</td>\n",
       "      <td>4150</td>\n",
       "      <td>4150</td>\n",
       "      <td>4150</td>\n",
       "      <td>4150</td>\n",
       "      <td>4150</td>\n",
       "      <td>4150</td>\n",
       "      <td>4150</td>\n",
       "      <td>4150</td>\n",
       "      <td>...</td>\n",
       "      <td>4150</td>\n",
       "      <td>4150</td>\n",
       "      <td>4150</td>\n",
       "      <td>4150</td>\n",
       "      <td>4150</td>\n",
       "      <td>4150</td>\n",
       "      <td>4150</td>\n",
       "      <td>4150</td>\n",
       "      <td>4150</td>\n",
       "      <td>152</td>\n",
       "    </tr>\n",
       "  </tbody>\n",
       "</table>\n",
       "<p>4 rows × 21 columns</p>\n",
       "</div>"
      ],
      "text/plain": [
       "          label   area  centroid-0  centroid-1  bbox-0  bbox-1  bbox-2  \\\n",
       "nn_phase                                                                 \n",
       "error      2115   2115        2115        2115    2115    2115    2115   \n",
       "phase1    18365  18365       18365       18365   18365   18365   18365   \n",
       "phase2     7666   7666        7666        7666    7666    7666    7666   \n",
       "phase3     4150   4150        4150        4150    4150    4150    4150   \n",
       "\n",
       "          bbox-3  major_axis_length  minor_axis_length  ...  local_centroid-1  \\\n",
       "nn_phase                                                ...                     \n",
       "error       2115               2115               2115  ...              2115   \n",
       "phase1     18365              18365              18365  ...             18365   \n",
       "phase2      7666               7666               7666  ...              7666   \n",
       "phase3      4150               4150               4150  ...              4150   \n",
       "\n",
       "          foci_number  im_frame  cell_name  volume  ann_phase1  ann_phase2  \\\n",
       "nn_phase                                                                     \n",
       "error            2115      2115       2115    2115        2115        2115   \n",
       "phase1          18365     18365      18365   18365       18365       18365   \n",
       "phase2           7666      7666       7666    7666        7666        7666   \n",
       "phase3           4150      4150       4150    4150        4150        4150   \n",
       "\n",
       "          ann_phase3  ann_mis  ann  \n",
       "nn_phase                            \n",
       "error           2115     2115   78  \n",
       "phase1         18365    18365  151  \n",
       "phase2          7666     7666  149  \n",
       "phase3          4150     4150  152  \n",
       "\n",
       "[4 rows x 21 columns]"
      ]
     },
     "execution_count": 65,
     "metadata": {},
     "output_type": "execute_result"
    }
   ],
   "source": [
    "df.groupby('nn_phase').count()"
   ]
  },
  {
   "cell_type": "code",
   "execution_count": 66,
   "metadata": {},
   "outputs": [],
   "source": [
    "df.to_pickle('./cell_data_nn.pkl')"
   ]
  }
 ],
 "metadata": {
  "kernelspec": {
   "display_name": "Python 3",
   "language": "python",
   "name": "python3"
  },
  "language_info": {
   "codemirror_mode": {
    "name": "ipython",
    "version": 3
   },
   "file_extension": ".py",
   "mimetype": "text/x-python",
   "name": "python",
   "nbconvert_exporter": "python",
   "pygments_lexer": "ipython3",
   "version": "3.7.10"
  }
 },
 "nbformat": 4,
 "nbformat_minor": 4
}
