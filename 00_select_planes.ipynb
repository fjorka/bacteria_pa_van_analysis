{
 "cells": [
  {
   "cell_type": "code",
   "execution_count": 1,
   "id": "fb02ff19",
   "metadata": {},
   "outputs": [],
   "source": [
    "import os\n",
    "import h5py\n",
    "import numpy as np\n",
    "import pandas as pd\n",
    "from tifffile import imsave\n",
    "from skimage.filters import threshold_otsu"
   ]
  },
  {
   "cell_type": "code",
   "execution_count": 7,
   "id": "dde13615",
   "metadata": {},
   "outputs": [
    {
     "data": {
      "text/plain": [
       "'0.18.2'"
      ]
     },
     "execution_count": 7,
     "metadata": {},
     "output_type": "execute_result"
    }
   ],
   "source": [
    "import skimage\n",
    "skimage.__version__"
   ]
  },
  {
   "cell_type": "code",
   "execution_count": 2,
   "id": "edef9c1d",
   "metadata": {},
   "outputs": [],
   "source": [
    "path_stacks_dir ='./data_stacks'\n",
    "path_frames_dir = './data_frames'\n",
    "\n",
    "info_file_path = './otsu_selPlanes.csv'"
   ]
  },
  {
   "cell_type": "markdown",
   "id": "70a69106",
   "metadata": {},
   "source": [
    "## Find the middle plane in each stack and save separately"
   ]
  },
  {
   "cell_type": "code",
   "execution_count": 3,
   "id": "c940f99b",
   "metadata": {},
   "outputs": [],
   "source": [
    "set_list = os.listdir(path_stacks_dir)"
   ]
  },
  {
   "cell_type": "code",
   "execution_count": 6,
   "id": "61155f88",
   "metadata": {},
   "outputs": [
    {
     "name": "stdout",
     "output_type": "stream",
     "text": [
      "PA treated - 10min_HG003-PA-10m-NR and VAN - FOV01.ims\n",
      "PA treated - 10min_HG003-PA-10m-NR and VAN - FOV02.ims\n",
      "PA treated - 10min_HG003-PA-10m-NR and VAN - FOV03.ims\n",
      "PA treated - 30min_HG003-PA alone-30m-NR and VAN - FOV01.ims\n",
      "PA treated - 30min_HG003-PA alone-30m-NR and VAN - FOV02.ims\n",
      "PA + VAN20 treated - 10min_HG003-PA plus VAN20-10m-NR and VAN - FOV01.ims\n",
      "PA + VAN20 treated - 10min_HG003-PA plus VAN20-10m-NR and VAN - FOV02.ims\n",
      "PA + VAN20 treated - 30min_HG003-PA plus VAN20-30m-NR and VAN - FOV01.ims\n",
      "PA + VAN20 treated - 30min_HG003-PA plus VAN20-30m-NR and VAN - FOV02.ims\n",
      "PA + VAN20 treated - 30min_HG003-PA plus VAN20-30m-NR and VAN - FOV03.ims\n",
      "PA + VAN20 treated - 30min_HG003-PA plus VAN20-30m-NR and VAN - FOV04.ims\n",
      "Untreated 30min_HG003-Untreated-30m-NR and VAN - FOV01.ims\n",
      "Untreated 30min_HG003-Untreated-30m-NR and VAN - FOV02.ims\n",
      "Untreated 30min_HG003-Untreated-30m-NR and VAN - FOV03.ims\n",
      "VAN20 treated - 10min_HG003-VAN20-10m-NR and VAN - FOV01.ims\n",
      "VAN20 treated - 10min_HG003-VAN20-10m-NR and VAN - FOV02.ims\n",
      "VAN20 treated - 30min_HG003-VAN20-30m-NR and VAN - FOV01.ims\n",
      "VAN20 treated - 30min_HG003-VAN20-30m-NR and VAN - FOV02.ims\n",
      "PA alone-10min-FOV.01-HG003.ims\n",
      "PA alone-10min-FOV.02-HG003.ims\n",
      "PA alone-30min-FOV.01-HG003.ims\n",
      "PA alone-30min-FOV.02-HG003.ims\n",
      "PA+VAN10-10min-FOV.01-HG003.ims\n",
      "PA+VAN10-30min-FOV.01-HG003.ims\n",
      "PA+VAN10-30min-FOV.02-HG003.ims\n",
      "PA+VAN20-10min-FOV.02-HG003.ims\n",
      "PA+VAN20-10min-FOV.03-HG003.ims\n",
      "PA+VAN20-10min-FOV.04-HG003.ims\n",
      "PA+VAN20-30min-FOV.01-HG003.ims\n",
      "PA+VAN20-30min-FOV.02-HG003.ims\n",
      "PA+VAN20-30min-FOV.04-HG003.ims\n",
      "Untreated-10min-FOV.02-HG003.ims\n",
      "Untreated-10min-FOV.04-HG003.ims\n",
      "Untreated-30min-FOV.01-HG003.ims\n",
      "VAN20 alone-10min-FOV.01-HG003.ims\n",
      "VAN20 alone-10min-FOV.02-HG003.ims\n",
      "VAN20 alone-30min-FOV.01-HG003.ims\n",
      "VAN20 alone-30min-FOV.03-HG003.ims\n",
      "PA11 alone -10min-1.26.21-FOV.1.ims\n",
      "PA11 alone -10min-1.26.21-FOV.2.ims\n",
      "PA11 alone -30min-4.20.21-FOV.1.ims\n",
      "PA11+VAN10 -10min-1.13.22-FOV.06.ims\n",
      "PA11+VAN10 -10min-1.26.21-FOV.1.ims\n",
      "PA11+VAN10 -10min-1.26.21-FOV.2.ims\n",
      "PA11+VAN10 -30min-1.29.21-FOV.1.ims\n",
      "PA11+VAN20 -10min-1.26.21-FOV.1.ims\n",
      "PA11+VAN20 -10min-1.26.21-FOV.2.ims\n",
      "PA11+VAN20 -30min-4.20.21-FOV.1.ims\n",
      "PA11+VAN20 -30min-4.20.21-FOV.2.ims\n",
      "PA11+VAN20 -30min-4.20.21-FOV.3.ims\n",
      "Untreated-10min-1.26.21-FOV 01.ims\n",
      "Untreated-10min-1.26.21-FOV 02.ims\n",
      "VAN20 alone -10min-1.26.21-FOV.2.ims\n",
      "VAN20 alone -10min-1.26.21-FOV.3.ims\n",
      "VAN20 alone-30min-4.20.21-FOV.1.ims\n",
      "VAN20 alone-30min-4.20.21-FOV.2.ims\n"
     ]
    }
   ],
   "source": [
    "im_data_list=[]\n",
    "\n",
    "for data_set in set_list:\n",
    "\n",
    "    set_path = os.path.join(path_stacks_dir,data_set)\n",
    "\n",
    "    exp_list = os.listdir(set_path)\n",
    "\n",
    "    for data_exp in exp_list:\n",
    "\n",
    "        exp_path = os.path.join(set_path,data_exp)\n",
    "\n",
    "        file_list = [x for x in os.listdir(exp_path) if x[-3:]=='ims']\n",
    "\n",
    "        i = 0\n",
    "        for im_file in file_list:\n",
    "            \n",
    "            print(im_file)\n",
    "            \n",
    "            # open imaging file\n",
    "            file_path = os.path.join(exp_path,im_file)\n",
    "            f = h5py.File(file_path,'r')\n",
    "\n",
    "            # extract channel data\n",
    "            ch_00 = np.array(f['DataSet']['ResolutionLevel 0']['TimePoint 0']['Channel 0']['Data'])\n",
    "            ch_01 = np.array(f['DataSet']['ResolutionLevel 0']['TimePoint 0']['Channel 1']['Data'])\n",
    "\n",
    "            f.close()\n",
    "\n",
    "            # find middle plane\n",
    "            segm = ch_01 > threshold_otsu(ch_01)\n",
    "            selected_frame = np.argmax(np.sum(ch_01*segm,axis=(1,2)))\n",
    "\n",
    "            # choose frames\n",
    "            ch_00_frame = ch_00[selected_frame,::1,::1]\n",
    "            ch_01_frame = ch_01[selected_frame,::1,::1]\n",
    "\n",
    "            # save frames\n",
    "            imsave(os.path.join(path_frames_dir,f'{data_set}_{data_exp}_{str(i).zfill(2)}_ch00.tiff'),ch_00_frame)\n",
    "            imsave(os.path.join(path_frames_dir,f'{data_set}_{data_exp}_{str(i).zfill(2)}_ch01.tiff'),ch_01_frame)\n",
    "\n",
    "            # create data frame\n",
    "            im_data = pd.DataFrame([selected_frame],columns=['selected_plane'])\n",
    "\n",
    "            # add info of these measurements\n",
    "            im_data['im_stack'] = im_file\n",
    "            im_data['im_frame'] = f'{data_set}_{data_exp}_{str(i).zfill(2)}'\n",
    "            im_data['condition'] = data_exp\n",
    "            im_data['set'] = data_set\n",
    "            im_data['total_z'] = ch_01.shape[0]\n",
    "\n",
    "            im_data_list.append(im_data)\n",
    "\n",
    "            i = i + 1\n",
    "\n",
    "        \n",
    "\n",
    "# put all together\n",
    "im_data_all = pd.concat(im_data_list,ignore_index=True)\n",
    "im_data_all.to_csv(info_file_path,index=False)"
   ]
  },
  {
   "cell_type": "code",
   "execution_count": null,
   "id": "a3b54eba",
   "metadata": {},
   "outputs": [],
   "source": []
  }
 ],
 "metadata": {
  "kernelspec": {
   "display_name": "Python 3 (ipykernel)",
   "language": "python",
   "name": "python3"
  },
  "language_info": {
   "codemirror_mode": {
    "name": "ipython",
    "version": 3
   },
   "file_extension": ".py",
   "mimetype": "text/x-python",
   "name": "python",
   "nbconvert_exporter": "python",
   "pygments_lexer": "ipython3",
   "version": "3.7.10"
  }
 },
 "nbformat": 4,
 "nbformat_minor": 5
}
