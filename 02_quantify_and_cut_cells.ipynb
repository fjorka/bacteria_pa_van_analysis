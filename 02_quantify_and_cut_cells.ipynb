{
 "cells": [
  {
   "cell_type": "code",
   "execution_count": 1,
   "id": "fb02ff19",
   "metadata": {},
   "outputs": [],
   "source": [
    "import os\n",
    "import h5py\n",
    "import numpy as np\n",
    "import pandas as pd\n",
    "\n",
    "from skimage.io import imread as imread_png\n",
    "from skimage.measure import label, regionprops_table, regionprops\n",
    "from tifffile import imread,imsave\n"
   ]
  },
  {
   "cell_type": "code",
   "execution_count": 2,
   "id": "84ff0059",
   "metadata": {},
   "outputs": [],
   "source": [
    "path_frames_dir = './data_frames'\n",
    "path_segmentation_dir = './segmentation_frames'\n",
    "path_singles_dir = './singles_ch01'\n",
    "info_file_path = './otsu_selPlanes.csv'\n",
    "\n",
    "# properties of cells to be calculated\n",
    "properties = ['label', 'area','centroid','bbox','major_axis_length','minor_axis_length',\n",
    "              'local_centroid','filled_image','intensity_image'] \n",
    "\n",
    "# size of images of individual cells\n",
    "im_size = 80\n",
    "# bit depth for images of individual cells\n",
    "bit8 = True"
   ]
  },
  {
   "cell_type": "code",
   "execution_count": 3,
   "id": "fcdbee16",
   "metadata": {},
   "outputs": [
    {
     "data": {
      "text/plain": [
       "56"
      ]
     },
     "execution_count": 3,
     "metadata": {},
     "output_type": "execute_result"
    }
   ],
   "source": [
    "# find all masks of the cells\n",
    "file_list = [x for x in os.listdir(path_segmentation_dir) if 'cells' in x]\n",
    "len(file_list)"
   ]
  },
  {
   "cell_type": "markdown",
   "id": "eb0a1ae6",
   "metadata": {},
   "source": [
    "## Calculate features of cells and count foci"
   ]
  },
  {
   "cell_type": "code",
   "execution_count": 4,
   "id": "cb721042",
   "metadata": {},
   "outputs": [],
   "source": [
    "cell_data_list = []\n",
    "\n",
    "for im_file in file_list:\n",
    "\n",
    "    # open images\n",
    "    cells_mask = imread_png(os.path.join(path_segmentation_dir,im_file))\n",
    "    foci_mask = imread_png(os.path.join(path_segmentation_dir,im_file.replace('cells','foci')))\n",
    "\n",
    "    frame_name = '_'.join(im_file.split('_')[:-2]) + '_ch01.tiff'\n",
    "    ch1_im = imread(os.path.join(path_frames_dir,frame_name))\n",
    "\n",
    "    # calculate properties of regions\n",
    "    cell_data = regionprops_table(cells_mask,intensity_image = ch1_im, properties=properties)\n",
    "    cell_data = pd.DataFrame(cell_data)\n",
    "\n",
    "    # add foci info\n",
    "    for ind,cell in cell_data.iterrows():\n",
    "\n",
    "        # cut with bbox\n",
    "        foci_bbox = foci_mask[cell['bbox-0']:cell['bbox-2'],cell['bbox-1']:cell['bbox-3']]\n",
    "    \n",
    "        # clean the area outside of a cell\n",
    "        foci_bbox[~(cell.filled_image)]=0\n",
    "    \n",
    "        # label and regionprops\n",
    "        foci_labels = label(foci_bbox)\n",
    "        props = regionprops(foci_labels)\n",
    "    \n",
    "        # store the info about foci number\n",
    "        cell_data.loc[ind,'foci_number']=len(props)\n",
    "\n",
    "    # add info of these measurements\n",
    "    cell_data['im_frame'] = '_'.join(im_file.split('_')[:-2])\n",
    "\n",
    "    cell_data_list.append(cell_data)\n",
    "\n",
    "cell_data_all = pd.concat(cell_data_list,ignore_index=True)\n",
    "\n",
    "# names of individual cells\n",
    "cell_data_all['cell_name'] = [(x+'_'+str(y).zfill(4)) for x,y in zip(cell_data_all.im_frame,cell_data_all.label)]\n",
    "\n",
    "# calculate volume\n",
    "cell_data_all['volume'] = (4*np.pi*(cell_data_all.major_axis_length/2)*(cell_data_all.minor_axis_length/2)**2)/3\n",
    "\n",
    "cell_data_all.to_pickle('./cell_data.pkl')"
   ]
  },
  {
   "cell_type": "markdown",
   "id": "be0b89e5",
   "metadata": {},
   "source": [
    "## Cut images of single cells"
   ]
  },
  {
   "cell_type": "code",
   "execution_count": 6,
   "id": "dcf91158",
   "metadata": {},
   "outputs": [],
   "source": [
    "for ind,cell in cell_data_all.iterrows():\n",
    "    \n",
    "    # create empty \n",
    "    cell_im = np.zeros([im_size,im_size])\n",
    "    \n",
    "    cell_insert = cell.intensity_image\n",
    "    \n",
    "    row_start = int(im_size/2-(cell_insert.shape[0]/2))\n",
    "    column_start = int(im_size/2-int(cell_insert.shape[1]/2))\n",
    "    cell_im[row_start:row_start+cell_insert.shape[0],column_start:column_start+cell_insert.shape[1]] = cell_insert\n",
    "    \n",
    "    cell_name = cell.cell_name + '.tiff'\n",
    "    \n",
    "    if bit8 == True:\n",
    "        \n",
    "        # rescale to 8 bit\n",
    "        resc = np.quantile(cell_im,0.999)\n",
    "        cell_im = cell_im/resc*255\n",
    "        cell_im[cell_im > 255] = 255\n",
    "\n",
    "        imsave(os.path.join(path_singles_dir,cell_name),cell_im.astype('uint8'))\n",
    "    else:\n",
    "        imsave(os.path.join(path_singles_dir,cell_name),cell_im)"
   ]
  }
 ],
 "metadata": {
  "kernelspec": {
   "display_name": "Python 3 (ipykernel)",
   "language": "python",
   "name": "python3"
  },
  "language_info": {
   "codemirror_mode": {
    "name": "ipython",
    "version": 3
   },
   "file_extension": ".py",
   "mimetype": "text/x-python",
   "name": "python",
   "nbconvert_exporter": "python",
   "pygments_lexer": "ipython3",
   "version": "3.7.10"
  }
 },
 "nbformat": 4,
 "nbformat_minor": 5
}
