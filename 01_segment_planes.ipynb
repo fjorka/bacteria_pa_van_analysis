{
 "cells": [
  {
   "cell_type": "code",
   "execution_count": 5,
   "id": "fb02ff19",
   "metadata": {},
   "outputs": [],
   "source": [
    "import os\n",
    "import numpy as np\n",
    "import pandas as pd\n",
    "from skimage.segmentation import clear_border\n",
    "from skimage.io import imsave\n",
    "from tifffile import imread\n",
    "from skimage.morphology import opening,dilation,disk\n",
    "from skimage.segmentation import find_boundaries\n",
    "\n",
    "import mxnet\n",
    "from cellpose import models"
   ]
  },
  {
   "cell_type": "code",
   "execution_count": 6,
   "id": "1be3c2da",
   "metadata": {},
   "outputs": [
    {
     "name": "stdout",
     "output_type": "stream",
     "text": [
      "2022-04-18 18:02:01,632 [INFO] >>>> using CPU\n"
     ]
    }
   ],
   "source": [
    "# load cellpose model\n",
    "model = models.Cellpose(gpu=False, model_type='cyto')"
   ]
  },
  {
   "cell_type": "code",
   "execution_count": 14,
   "id": "edef9c1d",
   "metadata": {},
   "outputs": [],
   "source": [
    "path_frames_dir = './data_frames'\n",
    "path_masks_dir = './segmentation_frames'"
   ]
  },
  {
   "cell_type": "markdown",
   "id": "728ac5a0",
   "metadata": {},
   "source": [
    "## Segmentation of bacteria (Cellpose)"
   ]
  },
  {
   "cell_type": "code",
   "execution_count": 15,
   "id": "61155f88",
   "metadata": {},
   "outputs": [
    {
     "name": "stdout",
     "output_type": "stream",
     "text": [
      "2022-04-18 19:42:07,123 [INFO] ~~~ FINDING MASKS ~~~\n",
      "2022-04-18 19:43:13,532 [INFO] >>>> TOTAL TIME 66.41 sec\n"
     ]
    },
    {
     "name": "stderr",
     "output_type": "stream",
     "text": [
      "C:\\ProgramData\\Anaconda3\\envs\\cellpose\\lib\\site-packages\\ipykernel_launcher.py:27: UserWarning: ./segmentation_frames\\data_set1_PA_10min_00_ch00_cells.png is a low contrast image\n"
     ]
    },
    {
     "name": "stdout",
     "output_type": "stream",
     "text": [
      "2022-04-18 19:43:15,132 [INFO] ~~~ FINDING MASKS ~~~\n",
      "2022-04-18 19:44:17,285 [INFO] >>>> TOTAL TIME 62.15 sec\n"
     ]
    },
    {
     "name": "stderr",
     "output_type": "stream",
     "text": [
      "C:\\ProgramData\\Anaconda3\\envs\\cellpose\\lib\\site-packages\\ipykernel_launcher.py:27: UserWarning: ./segmentation_frames\\data_set1_PA_10min_01_ch00_cells.png is a low contrast image\n"
     ]
    },
    {
     "name": "stdout",
     "output_type": "stream",
     "text": [
      "2022-04-18 19:44:18,979 [INFO] ~~~ FINDING MASKS ~~~\n",
      "2022-04-18 19:45:21,840 [INFO] >>>> TOTAL TIME 62.86 sec\n"
     ]
    },
    {
     "name": "stderr",
     "output_type": "stream",
     "text": [
      "C:\\ProgramData\\Anaconda3\\envs\\cellpose\\lib\\site-packages\\ipykernel_launcher.py:27: UserWarning: ./segmentation_frames\\data_set1_PA_10min_02_ch00_cells.png is a low contrast image\n"
     ]
    },
    {
     "name": "stdout",
     "output_type": "stream",
     "text": [
      "2022-04-18 19:45:23,385 [INFO] ~~~ FINDING MASKS ~~~\n",
      "2022-04-18 19:46:25,581 [INFO] >>>> TOTAL TIME 62.20 sec\n"
     ]
    },
    {
     "name": "stderr",
     "output_type": "stream",
     "text": [
      "C:\\ProgramData\\Anaconda3\\envs\\cellpose\\lib\\site-packages\\ipykernel_launcher.py:27: UserWarning: ./segmentation_frames\\data_set1_PA_30min_00_ch00_cells.png is a low contrast image\n"
     ]
    },
    {
     "name": "stdout",
     "output_type": "stream",
     "text": [
      "2022-04-18 19:46:27,113 [INFO] ~~~ FINDING MASKS ~~~\n",
      "2022-04-18 19:47:29,687 [INFO] >>>> TOTAL TIME 62.57 sec\n"
     ]
    },
    {
     "name": "stderr",
     "output_type": "stream",
     "text": [
      "C:\\ProgramData\\Anaconda3\\envs\\cellpose\\lib\\site-packages\\ipykernel_launcher.py:27: UserWarning: ./segmentation_frames\\data_set1_PA_30min_01_ch00_cells.png is a low contrast image\n"
     ]
    },
    {
     "name": "stdout",
     "output_type": "stream",
     "text": [
      "2022-04-18 19:47:31,349 [INFO] ~~~ FINDING MASKS ~~~\n",
      "2022-04-18 19:48:33,584 [INFO] >>>> TOTAL TIME 62.24 sec\n"
     ]
    },
    {
     "name": "stderr",
     "output_type": "stream",
     "text": [
      "C:\\ProgramData\\Anaconda3\\envs\\cellpose\\lib\\site-packages\\ipykernel_launcher.py:27: UserWarning: ./segmentation_frames\\data_set1_PA_VAN20_10min_00_ch00_cells.png is a low contrast image\n"
     ]
    },
    {
     "name": "stdout",
     "output_type": "stream",
     "text": [
      "2022-04-18 19:48:35,190 [INFO] ~~~ FINDING MASKS ~~~\n",
      "2022-04-18 19:49:37,563 [INFO] >>>> TOTAL TIME 62.37 sec\n"
     ]
    },
    {
     "name": "stderr",
     "output_type": "stream",
     "text": [
      "C:\\ProgramData\\Anaconda3\\envs\\cellpose\\lib\\site-packages\\ipykernel_launcher.py:27: UserWarning: ./segmentation_frames\\data_set1_PA_VAN20_10min_01_ch00_cells.png is a low contrast image\n"
     ]
    },
    {
     "name": "stdout",
     "output_type": "stream",
     "text": [
      "2022-04-18 19:49:39,203 [INFO] ~~~ FINDING MASKS ~~~\n",
      "2022-04-18 19:50:42,554 [INFO] >>>> TOTAL TIME 63.35 sec\n"
     ]
    },
    {
     "name": "stderr",
     "output_type": "stream",
     "text": [
      "C:\\ProgramData\\Anaconda3\\envs\\cellpose\\lib\\site-packages\\ipykernel_launcher.py:27: UserWarning: ./segmentation_frames\\data_set1_PA_VAN20_30min_00_ch00_cells.png is a low contrast image\n"
     ]
    },
    {
     "name": "stdout",
     "output_type": "stream",
     "text": [
      "2022-04-18 19:50:44,121 [INFO] ~~~ FINDING MASKS ~~~\n",
      "2022-04-18 19:51:49,935 [INFO] >>>> TOTAL TIME 65.81 sec\n"
     ]
    },
    {
     "name": "stderr",
     "output_type": "stream",
     "text": [
      "C:\\ProgramData\\Anaconda3\\envs\\cellpose\\lib\\site-packages\\ipykernel_launcher.py:27: UserWarning: ./segmentation_frames\\data_set1_PA_VAN20_30min_01_ch00_cells.png is a low contrast image\n"
     ]
    },
    {
     "name": "stdout",
     "output_type": "stream",
     "text": [
      "2022-04-18 19:51:51,575 [INFO] ~~~ FINDING MASKS ~~~\n",
      "2022-04-18 19:52:55,337 [INFO] >>>> TOTAL TIME 63.76 sec\n"
     ]
    },
    {
     "name": "stderr",
     "output_type": "stream",
     "text": [
      "C:\\ProgramData\\Anaconda3\\envs\\cellpose\\lib\\site-packages\\ipykernel_launcher.py:27: UserWarning: ./segmentation_frames\\data_set1_PA_VAN20_30min_02_ch00_cells.png is a low contrast image\n"
     ]
    },
    {
     "name": "stdout",
     "output_type": "stream",
     "text": [
      "2022-04-18 19:52:57,131 [INFO] ~~~ FINDING MASKS ~~~\n",
      "2022-04-18 19:54:00,529 [INFO] >>>> TOTAL TIME 63.40 sec\n"
     ]
    },
    {
     "name": "stderr",
     "output_type": "stream",
     "text": [
      "C:\\ProgramData\\Anaconda3\\envs\\cellpose\\lib\\site-packages\\ipykernel_launcher.py:27: UserWarning: ./segmentation_frames\\data_set1_PA_VAN20_30min_03_ch00_cells.png is a low contrast image\n"
     ]
    },
    {
     "name": "stdout",
     "output_type": "stream",
     "text": [
      "2022-04-18 19:54:02,218 [INFO] ~~~ FINDING MASKS ~~~\n",
      "2022-04-18 19:55:05,356 [INFO] >>>> TOTAL TIME 63.14 sec\n"
     ]
    },
    {
     "name": "stderr",
     "output_type": "stream",
     "text": [
      "C:\\ProgramData\\Anaconda3\\envs\\cellpose\\lib\\site-packages\\ipykernel_launcher.py:27: UserWarning: ./segmentation_frames\\data_set1_Untreated_30min_00_ch00_cells.png is a low contrast image\n"
     ]
    },
    {
     "name": "stdout",
     "output_type": "stream",
     "text": [
      "2022-04-18 19:55:07,029 [INFO] ~~~ FINDING MASKS ~~~\n",
      "2022-04-18 19:56:09,498 [INFO] >>>> TOTAL TIME 62.47 sec\n"
     ]
    },
    {
     "name": "stderr",
     "output_type": "stream",
     "text": [
      "C:\\ProgramData\\Anaconda3\\envs\\cellpose\\lib\\site-packages\\ipykernel_launcher.py:27: UserWarning: ./segmentation_frames\\data_set1_Untreated_30min_01_ch00_cells.png is a low contrast image\n"
     ]
    },
    {
     "name": "stdout",
     "output_type": "stream",
     "text": [
      "2022-04-18 19:56:11,096 [INFO] ~~~ FINDING MASKS ~~~\n",
      "2022-04-18 19:57:13,744 [INFO] >>>> TOTAL TIME 62.65 sec\n"
     ]
    },
    {
     "name": "stderr",
     "output_type": "stream",
     "text": [
      "C:\\ProgramData\\Anaconda3\\envs\\cellpose\\lib\\site-packages\\ipykernel_launcher.py:27: UserWarning: ./segmentation_frames\\data_set1_Untreated_30min_02_ch00_cells.png is a low contrast image\n"
     ]
    },
    {
     "name": "stdout",
     "output_type": "stream",
     "text": [
      "2022-04-18 19:57:15,314 [INFO] ~~~ FINDING MASKS ~~~\n",
      "2022-04-18 19:58:16,659 [INFO] >>>> TOTAL TIME 61.35 sec\n"
     ]
    },
    {
     "name": "stderr",
     "output_type": "stream",
     "text": [
      "C:\\ProgramData\\Anaconda3\\envs\\cellpose\\lib\\site-packages\\ipykernel_launcher.py:27: UserWarning: ./segmentation_frames\\data_set1_VAN20_10min_00_ch00_cells.png is a low contrast image\n"
     ]
    },
    {
     "name": "stdout",
     "output_type": "stream",
     "text": [
      "2022-04-18 19:58:18,060 [INFO] ~~~ FINDING MASKS ~~~\n",
      "2022-04-18 19:59:17,433 [INFO] >>>> TOTAL TIME 59.37 sec\n"
     ]
    },
    {
     "name": "stderr",
     "output_type": "stream",
     "text": [
      "C:\\ProgramData\\Anaconda3\\envs\\cellpose\\lib\\site-packages\\ipykernel_launcher.py:27: UserWarning: ./segmentation_frames\\data_set1_VAN20_10min_01_ch00_cells.png is a low contrast image\n"
     ]
    },
    {
     "name": "stdout",
     "output_type": "stream",
     "text": [
      "2022-04-18 19:59:18,892 [INFO] ~~~ FINDING MASKS ~~~\n",
      "2022-04-18 20:00:23,857 [INFO] >>>> TOTAL TIME 64.96 sec\n"
     ]
    },
    {
     "name": "stderr",
     "output_type": "stream",
     "text": [
      "C:\\ProgramData\\Anaconda3\\envs\\cellpose\\lib\\site-packages\\ipykernel_launcher.py:27: UserWarning: ./segmentation_frames\\data_set1_VAN20_30min_00_ch00_cells.png is a low contrast image\n"
     ]
    },
    {
     "name": "stdout",
     "output_type": "stream",
     "text": [
      "2022-04-18 20:00:25,459 [INFO] ~~~ FINDING MASKS ~~~\n",
      "2022-04-18 20:01:33,366 [INFO] >>>> TOTAL TIME 67.91 sec\n"
     ]
    },
    {
     "name": "stderr",
     "output_type": "stream",
     "text": [
      "C:\\ProgramData\\Anaconda3\\envs\\cellpose\\lib\\site-packages\\ipykernel_launcher.py:27: UserWarning: ./segmentation_frames\\data_set1_VAN20_30min_01_ch00_cells.png is a low contrast image\n"
     ]
    },
    {
     "name": "stdout",
     "output_type": "stream",
     "text": [
      "2022-04-18 20:01:35,000 [INFO] ~~~ FINDING MASKS ~~~\n",
      "2022-04-18 20:02:35,864 [INFO] >>>> TOTAL TIME 60.86 sec\n"
     ]
    },
    {
     "name": "stderr",
     "output_type": "stream",
     "text": [
      "C:\\ProgramData\\Anaconda3\\envs\\cellpose\\lib\\site-packages\\ipykernel_launcher.py:27: UserWarning: ./segmentation_frames\\data_set2_PA_10min_00_ch00_cells.png is a low contrast image\n"
     ]
    },
    {
     "name": "stdout",
     "output_type": "stream",
     "text": [
      "2022-04-18 20:02:37,346 [INFO] ~~~ FINDING MASKS ~~~\n",
      "2022-04-18 20:03:40,326 [INFO] >>>> TOTAL TIME 62.98 sec\n"
     ]
    },
    {
     "name": "stderr",
     "output_type": "stream",
     "text": [
      "C:\\ProgramData\\Anaconda3\\envs\\cellpose\\lib\\site-packages\\ipykernel_launcher.py:27: UserWarning: ./segmentation_frames\\data_set2_PA_10min_01_ch00_cells.png is a low contrast image\n"
     ]
    },
    {
     "name": "stdout",
     "output_type": "stream",
     "text": [
      "2022-04-18 20:03:41,931 [INFO] ~~~ FINDING MASKS ~~~\n",
      "2022-04-18 20:04:45,831 [INFO] >>>> TOTAL TIME 63.90 sec\n"
     ]
    },
    {
     "name": "stderr",
     "output_type": "stream",
     "text": [
      "C:\\ProgramData\\Anaconda3\\envs\\cellpose\\lib\\site-packages\\ipykernel_launcher.py:27: UserWarning: ./segmentation_frames\\data_set2_PA_30min_00_ch00_cells.png is a low contrast image\n"
     ]
    },
    {
     "name": "stdout",
     "output_type": "stream",
     "text": [
      "2022-04-18 20:04:47,451 [INFO] ~~~ FINDING MASKS ~~~\n",
      "2022-04-18 20:05:50,090 [INFO] >>>> TOTAL TIME 62.64 sec\n"
     ]
    },
    {
     "name": "stderr",
     "output_type": "stream",
     "text": [
      "C:\\ProgramData\\Anaconda3\\envs\\cellpose\\lib\\site-packages\\ipykernel_launcher.py:27: UserWarning: ./segmentation_frames\\data_set2_PA_30min_01_ch00_cells.png is a low contrast image\n"
     ]
    },
    {
     "name": "stdout",
     "output_type": "stream",
     "text": [
      "2022-04-18 20:05:51,828 [INFO] ~~~ FINDING MASKS ~~~\n",
      "2022-04-18 20:06:49,314 [INFO] >>>> TOTAL TIME 57.49 sec\n"
     ]
    },
    {
     "name": "stderr",
     "output_type": "stream",
     "text": [
      "C:\\ProgramData\\Anaconda3\\envs\\cellpose\\lib\\site-packages\\ipykernel_launcher.py:27: UserWarning: ./segmentation_frames\\data_set2_PA_VAN10_10min_00_ch00_cells.png is a low contrast image\n"
     ]
    },
    {
     "name": "stdout",
     "output_type": "stream",
     "text": [
      "2022-04-18 20:06:50,547 [INFO] ~~~ FINDING MASKS ~~~\n",
      "2022-04-18 20:07:49,048 [INFO] >>>> TOTAL TIME 58.50 sec\n"
     ]
    },
    {
     "name": "stderr",
     "output_type": "stream",
     "text": [
      "C:\\ProgramData\\Anaconda3\\envs\\cellpose\\lib\\site-packages\\ipykernel_launcher.py:27: UserWarning: ./segmentation_frames\\data_set2_PA_VAN10_30min_00_ch00_cells.png is a low contrast image\n"
     ]
    },
    {
     "name": "stdout",
     "output_type": "stream",
     "text": [
      "2022-04-18 20:07:50,317 [INFO] ~~~ FINDING MASKS ~~~\n",
      "2022-04-18 20:08:47,981 [INFO] >>>> TOTAL TIME 57.66 sec\n"
     ]
    },
    {
     "name": "stderr",
     "output_type": "stream",
     "text": [
      "C:\\ProgramData\\Anaconda3\\envs\\cellpose\\lib\\site-packages\\ipykernel_launcher.py:27: UserWarning: ./segmentation_frames\\data_set2_PA_VAN10_30min_01_ch00_cells.png is a low contrast image\n"
     ]
    },
    {
     "name": "stdout",
     "output_type": "stream",
     "text": [
      "2022-04-18 20:08:49,313 [INFO] ~~~ FINDING MASKS ~~~\n",
      "2022-04-18 20:09:47,941 [INFO] >>>> TOTAL TIME 58.63 sec\n"
     ]
    },
    {
     "name": "stderr",
     "output_type": "stream",
     "text": [
      "C:\\ProgramData\\Anaconda3\\envs\\cellpose\\lib\\site-packages\\ipykernel_launcher.py:27: UserWarning: ./segmentation_frames\\data_set2_PA_VAN20_10min_00_ch00_cells.png is a low contrast image\n"
     ]
    },
    {
     "name": "stdout",
     "output_type": "stream",
     "text": [
      "2022-04-18 20:09:49,330 [INFO] ~~~ FINDING MASKS ~~~\n",
      "2022-04-18 20:10:48,274 [INFO] >>>> TOTAL TIME 58.94 sec\n"
     ]
    },
    {
     "name": "stderr",
     "output_type": "stream",
     "text": [
      "C:\\ProgramData\\Anaconda3\\envs\\cellpose\\lib\\site-packages\\ipykernel_launcher.py:27: UserWarning: ./segmentation_frames\\data_set2_PA_VAN20_10min_01_ch00_cells.png is a low contrast image\n"
     ]
    },
    {
     "name": "stdout",
     "output_type": "stream",
     "text": [
      "2022-04-18 20:10:49,735 [INFO] ~~~ FINDING MASKS ~~~\n",
      "2022-04-18 20:11:51,730 [INFO] >>>> TOTAL TIME 61.99 sec\n"
     ]
    },
    {
     "name": "stderr",
     "output_type": "stream",
     "text": [
      "C:\\ProgramData\\Anaconda3\\envs\\cellpose\\lib\\site-packages\\ipykernel_launcher.py:27: UserWarning: ./segmentation_frames\\data_set2_PA_VAN20_10min_02_ch00_cells.png is a low contrast image\n"
     ]
    },
    {
     "name": "stdout",
     "output_type": "stream",
     "text": [
      "2022-04-18 20:11:53,218 [INFO] ~~~ FINDING MASKS ~~~\n",
      "2022-04-18 20:12:50,984 [INFO] >>>> TOTAL TIME 57.77 sec\n"
     ]
    },
    {
     "name": "stderr",
     "output_type": "stream",
     "text": [
      "C:\\ProgramData\\Anaconda3\\envs\\cellpose\\lib\\site-packages\\ipykernel_launcher.py:27: UserWarning: ./segmentation_frames\\data_set2_PA_VAN20_30min_00_ch00_cells.png is a low contrast image\n"
     ]
    },
    {
     "name": "stdout",
     "output_type": "stream",
     "text": [
      "2022-04-18 20:12:52,327 [INFO] ~~~ FINDING MASKS ~~~\n",
      "2022-04-18 20:13:50,969 [INFO] >>>> TOTAL TIME 58.64 sec\n"
     ]
    },
    {
     "name": "stderr",
     "output_type": "stream",
     "text": [
      "C:\\ProgramData\\Anaconda3\\envs\\cellpose\\lib\\site-packages\\ipykernel_launcher.py:27: UserWarning: ./segmentation_frames\\data_set2_PA_VAN20_30min_01_ch00_cells.png is a low contrast image\n"
     ]
    },
    {
     "name": "stdout",
     "output_type": "stream",
     "text": [
      "2022-04-18 20:13:52,451 [INFO] ~~~ FINDING MASKS ~~~\n",
      "2022-04-18 20:14:51,049 [INFO] >>>> TOTAL TIME 58.60 sec\n"
     ]
    },
    {
     "name": "stderr",
     "output_type": "stream",
     "text": [
      "C:\\ProgramData\\Anaconda3\\envs\\cellpose\\lib\\site-packages\\ipykernel_launcher.py:27: UserWarning: ./segmentation_frames\\data_set2_PA_VAN20_30min_02_ch00_cells.png is a low contrast image\n"
     ]
    },
    {
     "name": "stdout",
     "output_type": "stream",
     "text": [
      "2022-04-18 20:14:52,368 [INFO] ~~~ FINDING MASKS ~~~\n",
      "2022-04-18 20:15:52,550 [INFO] >>>> TOTAL TIME 60.18 sec\n"
     ]
    },
    {
     "name": "stderr",
     "output_type": "stream",
     "text": [
      "C:\\ProgramData\\Anaconda3\\envs\\cellpose\\lib\\site-packages\\ipykernel_launcher.py:27: UserWarning: ./segmentation_frames\\data_set2_Untreated_10min_00_ch00_cells.png is a low contrast image\n"
     ]
    },
    {
     "name": "stdout",
     "output_type": "stream",
     "text": [
      "2022-04-18 20:15:54,159 [INFO] ~~~ FINDING MASKS ~~~\n",
      "2022-04-18 20:16:54,705 [INFO] >>>> TOTAL TIME 60.55 sec\n"
     ]
    },
    {
     "name": "stderr",
     "output_type": "stream",
     "text": [
      "C:\\ProgramData\\Anaconda3\\envs\\cellpose\\lib\\site-packages\\ipykernel_launcher.py:27: UserWarning: ./segmentation_frames\\data_set2_Untreated_10min_01_ch00_cells.png is a low contrast image\n"
     ]
    },
    {
     "name": "stdout",
     "output_type": "stream",
     "text": [
      "2022-04-18 20:16:56,293 [INFO] ~~~ FINDING MASKS ~~~\n",
      "2022-04-18 20:17:58,862 [INFO] >>>> TOTAL TIME 62.57 sec\n"
     ]
    },
    {
     "name": "stderr",
     "output_type": "stream",
     "text": [
      "C:\\ProgramData\\Anaconda3\\envs\\cellpose\\lib\\site-packages\\ipykernel_launcher.py:27: UserWarning: ./segmentation_frames\\data_set2_Untreated_30min_00_ch00_cells.png is a low contrast image\n"
     ]
    },
    {
     "name": "stdout",
     "output_type": "stream",
     "text": [
      "2022-04-18 20:18:00,482 [INFO] ~~~ FINDING MASKS ~~~\n",
      "2022-04-18 20:19:00,812 [INFO] >>>> TOTAL TIME 60.33 sec\n"
     ]
    },
    {
     "name": "stderr",
     "output_type": "stream",
     "text": [
      "C:\\ProgramData\\Anaconda3\\envs\\cellpose\\lib\\site-packages\\ipykernel_launcher.py:27: UserWarning: ./segmentation_frames\\data_set2_VAN20_10min_00_ch00_cells.png is a low contrast image\n"
     ]
    },
    {
     "name": "stdout",
     "output_type": "stream",
     "text": [
      "2022-04-18 20:19:02,328 [INFO] ~~~ FINDING MASKS ~~~\n",
      "2022-04-18 20:20:02,170 [INFO] >>>> TOTAL TIME 59.84 sec\n"
     ]
    },
    {
     "name": "stderr",
     "output_type": "stream",
     "text": [
      "C:\\ProgramData\\Anaconda3\\envs\\cellpose\\lib\\site-packages\\ipykernel_launcher.py:27: UserWarning: ./segmentation_frames\\data_set2_VAN20_10min_01_ch00_cells.png is a low contrast image\n"
     ]
    },
    {
     "name": "stdout",
     "output_type": "stream",
     "text": [
      "2022-04-18 20:20:03,632 [INFO] ~~~ FINDING MASKS ~~~\n",
      "2022-04-18 20:21:08,590 [INFO] >>>> TOTAL TIME 64.96 sec\n"
     ]
    },
    {
     "name": "stderr",
     "output_type": "stream",
     "text": [
      "C:\\ProgramData\\Anaconda3\\envs\\cellpose\\lib\\site-packages\\ipykernel_launcher.py:27: UserWarning: ./segmentation_frames\\data_set2_VAN20_30min_00_ch00_cells.png is a low contrast image\n"
     ]
    },
    {
     "name": "stdout",
     "output_type": "stream",
     "text": [
      "2022-04-18 20:21:10,302 [INFO] ~~~ FINDING MASKS ~~~\n",
      "2022-04-18 20:22:14,116 [INFO] >>>> TOTAL TIME 63.81 sec\n"
     ]
    },
    {
     "name": "stderr",
     "output_type": "stream",
     "text": [
      "C:\\ProgramData\\Anaconda3\\envs\\cellpose\\lib\\site-packages\\ipykernel_launcher.py:27: UserWarning: ./segmentation_frames\\data_set2_VAN20_30min_01_ch00_cells.png is a low contrast image\n"
     ]
    },
    {
     "name": "stdout",
     "output_type": "stream",
     "text": [
      "2022-04-18 20:22:15,830 [INFO] ~~~ FINDING MASKS ~~~\n",
      "2022-04-18 20:23:19,898 [INFO] >>>> TOTAL TIME 64.07 sec\n"
     ]
    },
    {
     "name": "stderr",
     "output_type": "stream",
     "text": [
      "C:\\ProgramData\\Anaconda3\\envs\\cellpose\\lib\\site-packages\\ipykernel_launcher.py:27: UserWarning: ./segmentation_frames\\data_set3_PA_10min_00_ch00_cells.png is a low contrast image\n"
     ]
    },
    {
     "name": "stdout",
     "output_type": "stream",
     "text": [
      "2022-04-18 20:23:21,596 [INFO] ~~~ FINDING MASKS ~~~\n",
      "2022-04-18 20:24:25,033 [INFO] >>>> TOTAL TIME 63.44 sec\n"
     ]
    },
    {
     "name": "stderr",
     "output_type": "stream",
     "text": [
      "C:\\ProgramData\\Anaconda3\\envs\\cellpose\\lib\\site-packages\\ipykernel_launcher.py:27: UserWarning: ./segmentation_frames\\data_set3_PA_10min_01_ch00_cells.png is a low contrast image\n"
     ]
    },
    {
     "name": "stdout",
     "output_type": "stream",
     "text": [
      "2022-04-18 20:24:26,631 [INFO] ~~~ FINDING MASKS ~~~\n",
      "2022-04-18 20:25:27,322 [INFO] >>>> TOTAL TIME 60.69 sec\n"
     ]
    },
    {
     "name": "stderr",
     "output_type": "stream",
     "text": [
      "C:\\ProgramData\\Anaconda3\\envs\\cellpose\\lib\\site-packages\\ipykernel_launcher.py:27: UserWarning: ./segmentation_frames\\data_set3_PA_30min_00_ch00_cells.png is a low contrast image\n"
     ]
    },
    {
     "name": "stdout",
     "output_type": "stream",
     "text": [
      "2022-04-18 20:25:28,808 [INFO] ~~~ FINDING MASKS ~~~\n",
      "2022-04-18 20:26:26,489 [INFO] >>>> TOTAL TIME 57.68 sec\n"
     ]
    },
    {
     "name": "stderr",
     "output_type": "stream",
     "text": [
      "C:\\ProgramData\\Anaconda3\\envs\\cellpose\\lib\\site-packages\\ipykernel_launcher.py:27: UserWarning: ./segmentation_frames\\data_set3_PA_VAN10_10min_00_ch00_cells.png is a low contrast image\n"
     ]
    },
    {
     "name": "stdout",
     "output_type": "stream",
     "text": [
      "2022-04-18 20:26:27,829 [INFO] ~~~ FINDING MASKS ~~~\n",
      "2022-04-18 20:27:24,851 [INFO] >>>> TOTAL TIME 57.02 sec\n",
      "2022-04-18 20:27:26,028 [INFO] ~~~ FINDING MASKS ~~~\n"
     ]
    },
    {
     "name": "stderr",
     "output_type": "stream",
     "text": [
      "C:\\ProgramData\\Anaconda3\\envs\\cellpose\\lib\\site-packages\\ipykernel_launcher.py:27: UserWarning: ./segmentation_frames\\data_set3_PA_VAN10_10min_01_ch00_cells.png is a low contrast image\n"
     ]
    },
    {
     "name": "stdout",
     "output_type": "stream",
     "text": [
      "2022-04-18 20:28:23,599 [INFO] >>>> TOTAL TIME 57.57 sec\n",
      "2022-04-18 20:28:24,766 [INFO] ~~~ FINDING MASKS ~~~\n"
     ]
    },
    {
     "name": "stderr",
     "output_type": "stream",
     "text": [
      "C:\\ProgramData\\Anaconda3\\envs\\cellpose\\lib\\site-packages\\ipykernel_launcher.py:27: UserWarning: ./segmentation_frames\\data_set3_PA_VAN10_10min_02_ch00_cells.png is a low contrast image\n"
     ]
    },
    {
     "name": "stdout",
     "output_type": "stream",
     "text": [
      "2022-04-18 20:29:23,029 [INFO] >>>> TOTAL TIME 58.26 sec\n",
      "2022-04-18 20:29:24,255 [INFO] ~~~ FINDING MASKS ~~~\n"
     ]
    },
    {
     "name": "stderr",
     "output_type": "stream",
     "text": [
      "C:\\ProgramData\\Anaconda3\\envs\\cellpose\\lib\\site-packages\\ipykernel_launcher.py:27: UserWarning: ./segmentation_frames\\data_set3_PA_VAN10_30min_00_ch00_cells.png is a low contrast image\n"
     ]
    },
    {
     "name": "stdout",
     "output_type": "stream",
     "text": [
      "2022-04-18 20:30:21,909 [INFO] >>>> TOTAL TIME 57.65 sec\n"
     ]
    },
    {
     "name": "stderr",
     "output_type": "stream",
     "text": [
      "C:\\ProgramData\\Anaconda3\\envs\\cellpose\\lib\\site-packages\\ipykernel_launcher.py:27: UserWarning: ./segmentation_frames\\data_set3_PA_VAN20_10min_00_ch00_cells.png is a low contrast image\n"
     ]
    },
    {
     "name": "stdout",
     "output_type": "stream",
     "text": [
      "2022-04-18 20:30:23,418 [INFO] ~~~ FINDING MASKS ~~~\n",
      "2022-04-18 20:31:25,830 [INFO] >>>> TOTAL TIME 62.41 sec\n"
     ]
    },
    {
     "name": "stderr",
     "output_type": "stream",
     "text": [
      "C:\\ProgramData\\Anaconda3\\envs\\cellpose\\lib\\site-packages\\ipykernel_launcher.py:27: UserWarning: ./segmentation_frames\\data_set3_PA_VAN20_10min_01_ch00_cells.png is a low contrast image\n"
     ]
    },
    {
     "name": "stdout",
     "output_type": "stream",
     "text": [
      "2022-04-18 20:31:27,241 [INFO] ~~~ FINDING MASKS ~~~\n",
      "2022-04-18 20:32:24,939 [INFO] >>>> TOTAL TIME 57.70 sec\n",
      "2022-04-18 20:32:26,069 [INFO] ~~~ FINDING MASKS ~~~\n"
     ]
    },
    {
     "name": "stderr",
     "output_type": "stream",
     "text": [
      "C:\\ProgramData\\Anaconda3\\envs\\cellpose\\lib\\site-packages\\ipykernel_launcher.py:27: UserWarning: ./segmentation_frames\\data_set3_PA_VAN20_30min_00_ch00_cells.png is a low contrast image\n"
     ]
    },
    {
     "name": "stdout",
     "output_type": "stream",
     "text": [
      "2022-04-18 20:33:24,074 [INFO] >>>> TOTAL TIME 58.01 sec\n",
      "2022-04-18 20:33:25,259 [INFO] ~~~ FINDING MASKS ~~~\n"
     ]
    },
    {
     "name": "stderr",
     "output_type": "stream",
     "text": [
      "C:\\ProgramData\\Anaconda3\\envs\\cellpose\\lib\\site-packages\\ipykernel_launcher.py:27: UserWarning: ./segmentation_frames\\data_set3_PA_VAN20_30min_01_ch00_cells.png is a low contrast image\n"
     ]
    },
    {
     "name": "stdout",
     "output_type": "stream",
     "text": [
      "2022-04-18 20:34:23,321 [INFO] >>>> TOTAL TIME 58.06 sec\n",
      "2022-04-18 20:34:24,473 [INFO] ~~~ FINDING MASKS ~~~\n"
     ]
    },
    {
     "name": "stderr",
     "output_type": "stream",
     "text": [
      "C:\\ProgramData\\Anaconda3\\envs\\cellpose\\lib\\site-packages\\ipykernel_launcher.py:27: UserWarning: ./segmentation_frames\\data_set3_PA_VAN20_30min_02_ch00_cells.png is a low contrast image\n"
     ]
    },
    {
     "name": "stdout",
     "output_type": "stream",
     "text": [
      "2022-04-18 20:35:23,306 [INFO] >>>> TOTAL TIME 58.83 sec\n"
     ]
    },
    {
     "name": "stderr",
     "output_type": "stream",
     "text": [
      "C:\\ProgramData\\Anaconda3\\envs\\cellpose\\lib\\site-packages\\ipykernel_launcher.py:27: UserWarning: ./segmentation_frames\\data_set3_Untreated_10min_00_ch00_cells.png is a low contrast image\n"
     ]
    },
    {
     "name": "stdout",
     "output_type": "stream",
     "text": [
      "2022-04-18 20:35:24,694 [INFO] ~~~ FINDING MASKS ~~~\n",
      "2022-04-18 20:36:23,063 [INFO] >>>> TOTAL TIME 58.37 sec\n"
     ]
    },
    {
     "name": "stderr",
     "output_type": "stream",
     "text": [
      "C:\\ProgramData\\Anaconda3\\envs\\cellpose\\lib\\site-packages\\ipykernel_launcher.py:27: UserWarning: ./segmentation_frames\\data_set3_Untreated_10min_01_ch00_cells.png is a low contrast image\n"
     ]
    },
    {
     "name": "stdout",
     "output_type": "stream",
     "text": [
      "2022-04-18 20:36:24,503 [INFO] ~~~ FINDING MASKS ~~~\n",
      "2022-04-18 20:37:23,449 [INFO] >>>> TOTAL TIME 58.95 sec\n"
     ]
    },
    {
     "name": "stderr",
     "output_type": "stream",
     "text": [
      "C:\\ProgramData\\Anaconda3\\envs\\cellpose\\lib\\site-packages\\ipykernel_launcher.py:27: UserWarning: ./segmentation_frames\\data_set3_VAN20_10min_00_ch00_cells.png is a low contrast image\n"
     ]
    },
    {
     "name": "stdout",
     "output_type": "stream",
     "text": [
      "2022-04-18 20:37:24,799 [INFO] ~~~ FINDING MASKS ~~~\n",
      "2022-04-18 20:38:24,109 [INFO] >>>> TOTAL TIME 59.31 sec\n"
     ]
    },
    {
     "name": "stderr",
     "output_type": "stream",
     "text": [
      "C:\\ProgramData\\Anaconda3\\envs\\cellpose\\lib\\site-packages\\ipykernel_launcher.py:27: UserWarning: ./segmentation_frames\\data_set3_VAN20_10min_01_ch00_cells.png is a low contrast image\n"
     ]
    },
    {
     "name": "stdout",
     "output_type": "stream",
     "text": [
      "2022-04-18 20:38:25,469 [INFO] ~~~ FINDING MASKS ~~~\n",
      "2022-04-18 20:39:25,463 [INFO] >>>> TOTAL TIME 59.99 sec\n"
     ]
    },
    {
     "name": "stderr",
     "output_type": "stream",
     "text": [
      "C:\\ProgramData\\Anaconda3\\envs\\cellpose\\lib\\site-packages\\ipykernel_launcher.py:27: UserWarning: ./segmentation_frames\\data_set3_VAN20_30min_00_ch00_cells.png is a low contrast image\n"
     ]
    },
    {
     "name": "stdout",
     "output_type": "stream",
     "text": [
      "2022-04-18 20:39:26,973 [INFO] ~~~ FINDING MASKS ~~~\n",
      "2022-04-18 20:40:26,545 [INFO] >>>> TOTAL TIME 59.57 sec\n"
     ]
    },
    {
     "name": "stderr",
     "output_type": "stream",
     "text": [
      "C:\\ProgramData\\Anaconda3\\envs\\cellpose\\lib\\site-packages\\ipykernel_launcher.py:27: UserWarning: ./segmentation_frames\\data_set3_VAN20_30min_01_ch00_cells.png is a low contrast image\n"
     ]
    }
   ],
   "source": [
    "im_list = [x for x in os.listdir(path_frames_dir) if 'ch00' in x]\n",
    "\n",
    "for im_file in im_list:\n",
    "\n",
    "    file_path = os.path.join(path_frames_dir,im_file)\n",
    "    \n",
    "    # read in the file\n",
    "    im = imread(file_path)\n",
    "   \n",
    "    # segment the selected plane\n",
    "    labels, flows, styles, diams = model.eval(im, diameter=40, channels=[[0,0]])\n",
    "\n",
    "    # clear border\n",
    "    labels_2D = clear_border(labels)\n",
    "\n",
    "    # morphological operations enhancing the regions\n",
    "    boundaries = find_boundaries(labels_2D)\n",
    "    labels_2D[boundaries]=0\n",
    "\n",
    "    selem_open = disk(6)\n",
    "    labels_open = opening(labels_2D, selem_open)\n",
    "    selem_dil = disk(1)\n",
    "    labels_dilated = dilation(labels_open,selem_dil)\n",
    "\n",
    "    # save segmentation\n",
    "    save_path = os.path.join(path_masks_dir,im_file.replace('.tiff','_cells.png'))\n",
    "    imsave(save_path,labels_dilated.astype('uint16')) "
   ]
  },
  {
   "cell_type": "code",
   "execution_count": 9,
   "id": "784789e1",
   "metadata": {},
   "outputs": [
    {
     "name": "stderr",
     "output_type": "stream",
     "text": [
      "C:\\ProgramData\\Anaconda3\\envs\\cellpose\\lib\\site-packages\\napari_tools_menu\\__init__.py:122: UserWarning: Error in monkey patching napari. Please let @haesleinleinhuepf know at\n",
      "https://github.com/haesleinhuepf/napari-tools-menu/issues\n",
      "  warnings.warn(\"Error in monkey patching napari. Please let @haesleinleinhuepf know at\\nhttps://github.com/haesleinhuepf/napari-tools-menu/issues\")\n"
     ]
    },
    {
     "name": "stdout",
     "output_type": "stream",
     "text": [
      "2022-04-18 18:05:28,205 [INFO] Resource 'XMLSchema.xsd' is already loaded\n"
     ]
    },
    {
     "name": "stderr",
     "output_type": "stream",
     "text": [
      "C:\\ProgramData\\Anaconda3\\envs\\cellpose\\lib\\site-packages\\napari\\_vispy\\vispy_camera.py:109: RuntimeWarning: divide by zero encountered in true_divide\n",
      "  zoom = np.min(canvas_size / scale)\n"
     ]
    },
    {
     "data": {
      "text/plain": [
       "<Labels layer 'labels_dilated' at 0x1f43ee1da88>"
      ]
     },
     "execution_count": 9,
     "metadata": {},
     "output_type": "execute_result"
    }
   ],
   "source": [
    "import napari\n",
    "\n",
    "viewer = napari.Viewer()\n",
    "\n",
    "viewer.add_image(im,blending='additive',colormap='gray')\n",
    "viewer.add_labels(labels_dilated,blending='additive')"
   ]
  },
  {
   "cell_type": "markdown",
   "id": "c760712a",
   "metadata": {},
   "source": [
    "## Run ijm for MaxEntropy thresholding "
   ]
  },
  {
   "cell_type": "code",
   "execution_count": null,
   "id": "a011f74b",
   "metadata": {},
   "outputs": [],
   "source": []
  }
 ],
 "metadata": {
  "kernelspec": {
   "display_name": "Python 3 (ipykernel)",
   "language": "python",
   "name": "python3"
  },
  "language_info": {
   "codemirror_mode": {
    "name": "ipython",
    "version": 3
   },
   "file_extension": ".py",
   "mimetype": "text/x-python",
   "name": "python",
   "nbconvert_exporter": "python",
   "pygments_lexer": "ipython3",
   "version": "3.7.10"
  }
 },
 "nbformat": 4,
 "nbformat_minor": 5
}
