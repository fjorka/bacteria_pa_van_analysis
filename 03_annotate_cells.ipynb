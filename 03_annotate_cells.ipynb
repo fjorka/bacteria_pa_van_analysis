{
 "cells": [
  {
   "cell_type": "code",
   "execution_count": 1,
   "id": "fb02ff19",
   "metadata": {},
   "outputs": [],
   "source": [
    "import os\n",
    "import pandas as pd"
   ]
  },
  {
   "cell_type": "code",
   "execution_count": 11,
   "id": "edef9c1d",
   "metadata": {},
   "outputs": [],
   "source": [
    "path_singles_dir = './singles_ch01'\n",
    "path_manual_selection = './manual_selection'\n",
    "\n",
    "df_file = './cell_data.pkl' \n",
    "df_save = './cell_data_annotated.pkl' "
   ]
  },
  {
   "cell_type": "code",
   "execution_count": 3,
   "id": "3b2c7eeb",
   "metadata": {},
   "outputs": [],
   "source": [
    "df = pd.read_pickle(df_file)"
   ]
  },
  {
   "cell_type": "code",
   "execution_count": 4,
   "id": "8ad416bd",
   "metadata": {},
   "outputs": [],
   "source": [
    "ph1_dir = os.path.join(path_manual_selection,'ph_1')\n",
    "ph2_dir = os.path.join(path_manual_selection,'ph_2')\n",
    "ph3_dir = os.path.join(path_manual_selection,'ph_3')\n",
    "mis_dir = os.path.join(path_manual_selection,'missegmented')\n",
    "\n",
    "ph1_list = os.listdir(ph1_dir)\n",
    "ph2_list = os.listdir(ph2_dir)\n",
    "ph3_list = os.listdir(ph3_dir)\n",
    "mis_list = os.listdir(mis_dir)"
   ]
  },
  {
   "cell_type": "code",
   "execution_count": 14,
   "id": "3b27b5df",
   "metadata": {},
   "outputs": [],
   "source": [
    "df['ann_phase1'] = [f'{x}.tiff' in ph1_list for x in df.cell_name]\n",
    "df['ann_phase2'] = [f'{x}.tiff' in ph2_list for x in df.cell_name]\n",
    "df['ann_phase3'] = [f'{x}.tiff' in ph3_list for x in df.cell_name]\n",
    "df['ann_mis'] = [f'{x}.tiff' in mis_list for x in df.cell_name]\n",
    "\n",
    "df.loc[df.ann_phase1,'ann'] = 'phase1'\n",
    "df.loc[df.ann_phase2,'ann'] = 'phase2'\n",
    "df.loc[df.ann_phase3,'ann'] = 'phase3'\n",
    "df.loc[df.ann_mis,'ann'] = 'error'"
   ]
  },
  {
   "cell_type": "code",
   "execution_count": 18,
   "id": "944e3aac",
   "metadata": {},
   "outputs": [
    {
     "data": {
      "text/plain": [
       "530"
      ]
     },
     "execution_count": 18,
     "metadata": {},
     "output_type": "execute_result"
    }
   ],
   "source": [
    "sel_data = df.loc[df.ann==df.ann,:]\n",
    "# cound annotated objects\n",
    "len(sel_data)"
   ]
  },
  {
   "cell_type": "code",
   "execution_count": 9,
   "id": "c4590570",
   "metadata": {},
   "outputs": [],
   "source": [
    "# drop heavy columns that will not be needed\n",
    "\n",
    "df = df.drop(['filled_image', 'intensity_image'],axis=1)"
   ]
  },
  {
   "cell_type": "code",
   "execution_count": 19,
   "id": "e903901b",
   "metadata": {},
   "outputs": [],
   "source": [
    "df.to_pickle(df_save)"
   ]
  }
 ],
 "metadata": {
  "kernelspec": {
   "display_name": "Python 3 (ipykernel)",
   "language": "python",
   "name": "python3"
  },
  "language_info": {
   "codemirror_mode": {
    "name": "ipython",
    "version": 3
   },
   "file_extension": ".py",
   "mimetype": "text/x-python",
   "name": "python",
   "nbconvert_exporter": "python",
   "pygments_lexer": "ipython3",
   "version": "3.7.10"
  }
 },
 "nbformat": 4,
 "nbformat_minor": 5
}
